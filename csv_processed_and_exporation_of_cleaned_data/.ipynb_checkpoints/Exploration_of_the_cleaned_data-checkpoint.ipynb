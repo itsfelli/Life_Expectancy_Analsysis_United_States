{
 "cells": [
  {
   "cell_type": "code",
   "execution_count": 1,
   "metadata": {},
   "outputs": [],
   "source": [
    "import numpy as np\n",
    "import pandas as pd\n",
    "import matplotlib.pyplot as plt\n",
    "#%matpoltlib inline\n",
    "import seaborn as sns\n"
   ]
  },
  {
   "cell_type": "code",
   "execution_count": 2,
   "metadata": {},
   "outputs": [],
   "source": [
    "sns.set_style('whitegrid')"
   ]
  },
  {
   "cell_type": "code",
   "execution_count": 3,
   "metadata": {},
   "outputs": [],
   "source": [
    "sns.set_context('notebook')"
   ]
  },
  {
   "cell_type": "code",
   "execution_count": 4,
   "metadata": {},
   "outputs": [],
   "source": [
    "edu=pd.read_csv('edu_clean.csv')"
   ]
  },
  {
   "cell_type": "code",
   "execution_count": 5,
   "metadata": {},
   "outputs": [],
   "source": [
    "edu.set_index('State',inplace=True)"
   ]
  },
  {
   "cell_type": "code",
   "execution_count": 6,
   "metadata": {},
   "outputs": [
    {
     "data": {
      "text/html": [
       "<div>\n",
       "<style scoped>\n",
       "    .dataframe tbody tr th:only-of-type {\n",
       "        vertical-align: middle;\n",
       "    }\n",
       "\n",
       "    .dataframe tbody tr th {\n",
       "        vertical-align: top;\n",
       "    }\n",
       "\n",
       "    .dataframe thead th {\n",
       "        text-align: right;\n",
       "    }\n",
       "</style>\n",
       "<table border=\"1\" class=\"dataframe\">\n",
       "  <thead>\n",
       "    <tr style=\"text-align: right;\">\n",
       "      <th></th>\n",
       "      <th>HSGradPer</th>\n",
       "      <th>BADegPer</th>\n",
       "      <th>AdvDegPer</th>\n",
       "    </tr>\n",
       "    <tr>\n",
       "      <th>State</th>\n",
       "      <th></th>\n",
       "      <th></th>\n",
       "      <th></th>\n",
       "    </tr>\n",
       "  </thead>\n",
       "  <tbody>\n",
       "    <tr>\n",
       "      <th>Alabama</th>\n",
       "      <td>85.3</td>\n",
       "      <td>24.5</td>\n",
       "      <td>9.1</td>\n",
       "    </tr>\n",
       "    <tr>\n",
       "      <th>Alaska</th>\n",
       "      <td>92.4</td>\n",
       "      <td>29.0</td>\n",
       "      <td>10.4</td>\n",
       "    </tr>\n",
       "    <tr>\n",
       "      <th>Arizona</th>\n",
       "      <td>82.1</td>\n",
       "      <td>28.4</td>\n",
       "      <td>10.7</td>\n",
       "    </tr>\n",
       "    <tr>\n",
       "      <th>Arkansas</th>\n",
       "      <td>85.6</td>\n",
       "      <td>22.0</td>\n",
       "      <td>7.9</td>\n",
       "    </tr>\n",
       "    <tr>\n",
       "      <th>California</th>\n",
       "      <td>82.5</td>\n",
       "      <td>32.6</td>\n",
       "      <td>12.2</td>\n",
       "    </tr>\n",
       "  </tbody>\n",
       "</table>\n",
       "</div>"
      ],
      "text/plain": [
       "            HSGradPer  BADegPer  AdvDegPer\n",
       "State                                     \n",
       "Alabama          85.3      24.5        9.1\n",
       "Alaska           92.4      29.0       10.4\n",
       "Arizona          82.1      28.4       10.7\n",
       "Arkansas         85.6      22.0        7.9\n",
       "California       82.5      32.6       12.2"
      ]
     },
     "execution_count": 6,
     "metadata": {},
     "output_type": "execute_result"
    }
   ],
   "source": [
    "edu.head()"
   ]
  },
  {
   "cell_type": "code",
   "execution_count": 7,
   "metadata": {},
   "outputs": [],
   "source": [
    "life_exp=pd.read_csv('life_expectancy_clean.csv')"
   ]
  },
  {
   "cell_type": "code",
   "execution_count": 8,
   "metadata": {},
   "outputs": [],
   "source": [
    "life_exp.set_index('State', inplace=True)"
   ]
  },
  {
   "cell_type": "code",
   "execution_count": 9,
   "metadata": {},
   "outputs": [
    {
     "data": {
      "text/html": [
       "<div>\n",
       "<style scoped>\n",
       "    .dataframe tbody tr th:only-of-type {\n",
       "        vertical-align: middle;\n",
       "    }\n",
       "\n",
       "    .dataframe tbody tr th {\n",
       "        vertical-align: top;\n",
       "    }\n",
       "\n",
       "    .dataframe thead th {\n",
       "        text-align: right;\n",
       "    }\n",
       "</style>\n",
       "<table border=\"1\" class=\"dataframe\">\n",
       "  <thead>\n",
       "    <tr style=\"text-align: right;\">\n",
       "      <th></th>\n",
       "      <th>LifeExp2018</th>\n",
       "      <th>LifeExp2010</th>\n",
       "      <th>MaleLifeExp</th>\n",
       "      <th>FemLifeExp</th>\n",
       "    </tr>\n",
       "    <tr>\n",
       "      <th>State</th>\n",
       "      <th></th>\n",
       "      <th></th>\n",
       "      <th></th>\n",
       "      <th></th>\n",
       "    </tr>\n",
       "  </thead>\n",
       "  <tbody>\n",
       "    <tr>\n",
       "      <th>Alabama</th>\n",
       "      <td>75.4</td>\n",
       "      <td>75.4</td>\n",
       "      <td>72.6</td>\n",
       "      <td>78.1</td>\n",
       "    </tr>\n",
       "    <tr>\n",
       "      <th>Alaska</th>\n",
       "      <td>78.8</td>\n",
       "      <td>78.0</td>\n",
       "      <td>76.7</td>\n",
       "      <td>81.2</td>\n",
       "    </tr>\n",
       "    <tr>\n",
       "      <th>American_Samoa</th>\n",
       "      <td>74.8</td>\n",
       "      <td>74.0</td>\n",
       "      <td>73.0</td>\n",
       "      <td>77.0</td>\n",
       "    </tr>\n",
       "    <tr>\n",
       "      <th>Arizona</th>\n",
       "      <td>79.9</td>\n",
       "      <td>79.3</td>\n",
       "      <td>77.5</td>\n",
       "      <td>82.3</td>\n",
       "    </tr>\n",
       "    <tr>\n",
       "      <th>Arkansas</th>\n",
       "      <td>75.9</td>\n",
       "      <td>76.0</td>\n",
       "      <td>73.1</td>\n",
       "      <td>78.6</td>\n",
       "    </tr>\n",
       "  </tbody>\n",
       "</table>\n",
       "</div>"
      ],
      "text/plain": [
       "                LifeExp2018  LifeExp2010  MaleLifeExp  FemLifeExp\n",
       "State                                                            \n",
       "Alabama                75.4         75.4         72.6        78.1\n",
       "Alaska                 78.8         78.0         76.7        81.2\n",
       "American_Samoa         74.8         74.0         73.0        77.0\n",
       "Arizona                79.9         79.3         77.5        82.3\n",
       "Arkansas               75.9         76.0         73.1        78.6"
      ]
     },
     "execution_count": 9,
     "metadata": {},
     "output_type": "execute_result"
    }
   ],
   "source": [
    "life_exp.head()"
   ]
  },
  {
   "cell_type": "code",
   "execution_count": 10,
   "metadata": {},
   "outputs": [],
   "source": [
    "crime=pd.read_csv('crime_clean.csv')\n",
    "crime.set_index('State', inplace = True)"
   ]
  },
  {
   "cell_type": "code",
   "execution_count": 11,
   "metadata": {},
   "outputs": [
    {
     "data": {
      "text/html": [
       "<div>\n",
       "<style scoped>\n",
       "    .dataframe tbody tr th:only-of-type {\n",
       "        vertical-align: middle;\n",
       "    }\n",
       "\n",
       "    .dataframe tbody tr th {\n",
       "        vertical-align: top;\n",
       "    }\n",
       "\n",
       "    .dataframe thead th {\n",
       "        text-align: right;\n",
       "    }\n",
       "</style>\n",
       "<table border=\"1\" class=\"dataframe\">\n",
       "  <thead>\n",
       "    <tr style=\"text-align: right;\">\n",
       "      <th></th>\n",
       "      <th>PopTot</th>\n",
       "      <th>MurderNMTot</th>\n",
       "      <th>MurderTot</th>\n",
       "      <th>GunMurderTot</th>\n",
       "      <th>GunOwnPer</th>\n",
       "      <th>MurderNMRate</th>\n",
       "      <th>MurderRate</th>\n",
       "      <th>GunMurderRate</th>\n",
       "    </tr>\n",
       "    <tr>\n",
       "      <th>State</th>\n",
       "      <th></th>\n",
       "      <th></th>\n",
       "      <th></th>\n",
       "      <th></th>\n",
       "      <th></th>\n",
       "      <th></th>\n",
       "      <th></th>\n",
       "      <th></th>\n",
       "    </tr>\n",
       "  </thead>\n",
       "  <tbody>\n",
       "    <tr>\n",
       "      <th>Alabama</th>\n",
       "      <td>4853875</td>\n",
       "      <td>348</td>\n",
       "      <td>NaN</td>\n",
       "      <td>NaN</td>\n",
       "      <td>48.9</td>\n",
       "      <td>7.2</td>\n",
       "      <td>NaN</td>\n",
       "      <td>NaN</td>\n",
       "    </tr>\n",
       "    <tr>\n",
       "      <th>Alaska</th>\n",
       "      <td>737709</td>\n",
       "      <td>59</td>\n",
       "      <td>57.0</td>\n",
       "      <td>39.0</td>\n",
       "      <td>61.7</td>\n",
       "      <td>8.0</td>\n",
       "      <td>7.7</td>\n",
       "      <td>5.3</td>\n",
       "    </tr>\n",
       "    <tr>\n",
       "      <th>Arizona</th>\n",
       "      <td>6817565</td>\n",
       "      <td>306</td>\n",
       "      <td>278.0</td>\n",
       "      <td>171.0</td>\n",
       "      <td>32.3</td>\n",
       "      <td>4.5</td>\n",
       "      <td>4.1</td>\n",
       "      <td>2.5</td>\n",
       "    </tr>\n",
       "    <tr>\n",
       "      <th>Arkansas</th>\n",
       "      <td>2977853</td>\n",
       "      <td>181</td>\n",
       "      <td>164.0</td>\n",
       "      <td>110.0</td>\n",
       "      <td>57.9</td>\n",
       "      <td>6.1</td>\n",
       "      <td>5.5</td>\n",
       "      <td>3.7</td>\n",
       "    </tr>\n",
       "    <tr>\n",
       "      <th>California</th>\n",
       "      <td>38993940</td>\n",
       "      <td>1861</td>\n",
       "      <td>1861.0</td>\n",
       "      <td>1275.0</td>\n",
       "      <td>20.1</td>\n",
       "      <td>4.8</td>\n",
       "      <td>4.8</td>\n",
       "      <td>3.3</td>\n",
       "    </tr>\n",
       "  </tbody>\n",
       "</table>\n",
       "</div>"
      ],
      "text/plain": [
       "              PopTot  MurderNMTot  MurderTot  GunMurderTot  GunOwnPer  \\\n",
       "State                                                                   \n",
       "Alabama      4853875          348        NaN           NaN       48.9   \n",
       "Alaska        737709           59       57.0          39.0       61.7   \n",
       "Arizona      6817565          306      278.0         171.0       32.3   \n",
       "Arkansas     2977853          181      164.0         110.0       57.9   \n",
       "California  38993940         1861     1861.0        1275.0       20.1   \n",
       "\n",
       "            MurderNMRate  MurderRate  GunMurderRate  \n",
       "State                                                \n",
       "Alabama              7.2         NaN            NaN  \n",
       "Alaska               8.0         7.7            5.3  \n",
       "Arizona              4.5         4.1            2.5  \n",
       "Arkansas             6.1         5.5            3.7  \n",
       "California           4.8         4.8            3.3  "
      ]
     },
     "execution_count": 11,
     "metadata": {},
     "output_type": "execute_result"
    }
   ],
   "source": [
    "crime.head()"
   ]
  },
  {
   "cell_type": "code",
   "execution_count": 12,
   "metadata": {},
   "outputs": [],
   "source": [
    "income=pd.read_csv('income_clean.csv')\n",
    "income.set_index('State', inplace = True)"
   ]
  },
  {
   "cell_type": "code",
   "execution_count": 13,
   "metadata": {},
   "outputs": [
    {
     "data": {
      "text/html": [
       "<div>\n",
       "<style scoped>\n",
       "    .dataframe tbody tr th:only-of-type {\n",
       "        vertical-align: middle;\n",
       "    }\n",
       "\n",
       "    .dataframe tbody tr th {\n",
       "        vertical-align: top;\n",
       "    }\n",
       "\n",
       "    .dataframe thead th {\n",
       "        text-align: right;\n",
       "    }\n",
       "</style>\n",
       "<table border=\"1\" class=\"dataframe\">\n",
       "  <thead>\n",
       "    <tr style=\"text-align: right;\">\n",
       "      <th></th>\n",
       "      <th>Income2017</th>\n",
       "      <th>Income2016</th>\n",
       "      <th>Income2015</th>\n",
       "      <th>Income2014</th>\n",
       "      <th>Income2013</th>\n",
       "      <th>Income2012</th>\n",
       "      <th>Income2011</th>\n",
       "      <th>Income2010</th>\n",
       "      <th>Income2009</th>\n",
       "      <th>Income2008</th>\n",
       "      <th>Income2007</th>\n",
       "    </tr>\n",
       "    <tr>\n",
       "      <th>State</th>\n",
       "      <th></th>\n",
       "      <th></th>\n",
       "      <th></th>\n",
       "      <th></th>\n",
       "      <th></th>\n",
       "      <th></th>\n",
       "      <th></th>\n",
       "      <th></th>\n",
       "      <th></th>\n",
       "      <th></th>\n",
       "      <th></th>\n",
       "    </tr>\n",
       "  </thead>\n",
       "  <tbody>\n",
       "    <tr>\n",
       "      <th>Alabama</th>\n",
       "      <td>48123</td>\n",
       "      <td>46257</td>\n",
       "      <td>44765</td>\n",
       "      <td>42830</td>\n",
       "      <td>42849</td>\n",
       "      <td>41574</td>\n",
       "      <td>41415</td>\n",
       "      <td>40474</td>\n",
       "      <td>40489</td>\n",
       "      <td>42666</td>\n",
       "      <td>40554</td>\n",
       "    </tr>\n",
       "    <tr>\n",
       "      <th>Alaska</th>\n",
       "      <td>73181</td>\n",
       "      <td>76440</td>\n",
       "      <td>73355</td>\n",
       "      <td>71583</td>\n",
       "      <td>72237</td>\n",
       "      <td>67712</td>\n",
       "      <td>67825</td>\n",
       "      <td>64576</td>\n",
       "      <td>66953</td>\n",
       "      <td>68460</td>\n",
       "      <td>64333</td>\n",
       "    </tr>\n",
       "    <tr>\n",
       "      <th>Arizona</th>\n",
       "      <td>56581</td>\n",
       "      <td>53558</td>\n",
       "      <td>51492</td>\n",
       "      <td>50068</td>\n",
       "      <td>48510</td>\n",
       "      <td>47826</td>\n",
       "      <td>46709</td>\n",
       "      <td>46789</td>\n",
       "      <td>48745</td>\n",
       "      <td>50958</td>\n",
       "      <td>49889</td>\n",
       "    </tr>\n",
       "    <tr>\n",
       "      <th>Arkansas</th>\n",
       "      <td>45869</td>\n",
       "      <td>45907</td>\n",
       "      <td>42798</td>\n",
       "      <td>44922</td>\n",
       "      <td>39376</td>\n",
       "      <td>39018</td>\n",
       "      <td>41302</td>\n",
       "      <td>38587</td>\n",
       "      <td>36538</td>\n",
       "      <td>39586</td>\n",
       "      <td>38134</td>\n",
       "    </tr>\n",
       "    <tr>\n",
       "      <th>California</th>\n",
       "      <td>71805</td>\n",
       "      <td>67739</td>\n",
       "      <td>64500</td>\n",
       "      <td>61933</td>\n",
       "      <td>60190</td>\n",
       "      <td>58328</td>\n",
       "      <td>57287</td>\n",
       "      <td>57708</td>\n",
       "      <td>58931</td>\n",
       "      <td>61021</td>\n",
       "      <td>59948</td>\n",
       "    </tr>\n",
       "  </tbody>\n",
       "</table>\n",
       "</div>"
      ],
      "text/plain": [
       "            Income2017  Income2016  Income2015  Income2014  Income2013  \\\n",
       "State                                                                    \n",
       "Alabama          48123       46257       44765       42830       42849   \n",
       "Alaska           73181       76440       73355       71583       72237   \n",
       "Arizona          56581       53558       51492       50068       48510   \n",
       "Arkansas         45869       45907       42798       44922       39376   \n",
       "California       71805       67739       64500       61933       60190   \n",
       "\n",
       "            Income2012  Income2011  Income2010  Income2009  Income2008  \\\n",
       "State                                                                    \n",
       "Alabama          41574       41415       40474       40489       42666   \n",
       "Alaska           67712       67825       64576       66953       68460   \n",
       "Arizona          47826       46709       46789       48745       50958   \n",
       "Arkansas         39018       41302       38587       36538       39586   \n",
       "California       58328       57287       57708       58931       61021   \n",
       "\n",
       "            Income2007  \n",
       "State                   \n",
       "Alabama          40554  \n",
       "Alaska           64333  \n",
       "Arizona          49889  \n",
       "Arkansas         38134  \n",
       "California       59948  "
      ]
     },
     "execution_count": 13,
     "metadata": {},
     "output_type": "execute_result"
    }
   ],
   "source": [
    "income.head()"
   ]
  },
  {
   "cell_type": "code",
   "execution_count": 14,
   "metadata": {},
   "outputs": [],
   "source": [
    "area=pd.read_csv('area_clean.csv')\n",
    "area.set_index('State', inplace = True)"
   ]
  },
  {
   "cell_type": "code",
   "execution_count": 15,
   "metadata": {},
   "outputs": [
    {
     "data": {
      "text/html": [
       "<div>\n",
       "<style scoped>\n",
       "    .dataframe tbody tr th:only-of-type {\n",
       "        vertical-align: middle;\n",
       "    }\n",
       "\n",
       "    .dataframe tbody tr th {\n",
       "        vertical-align: top;\n",
       "    }\n",
       "\n",
       "    .dataframe thead th {\n",
       "        text-align: right;\n",
       "    }\n",
       "</style>\n",
       "<table border=\"1\" class=\"dataframe\">\n",
       "  <thead>\n",
       "    <tr style=\"text-align: right;\">\n",
       "      <th></th>\n",
       "      <th>TotalSqMi</th>\n",
       "      <th>TotalKmQ</th>\n",
       "      <th>LandSqMi</th>\n",
       "      <th>LandKmQ</th>\n",
       "      <th>LandPer</th>\n",
       "      <th>WaterSqMi</th>\n",
       "      <th>WaterKmQ</th>\n",
       "      <th>WaterPer</th>\n",
       "    </tr>\n",
       "    <tr>\n",
       "      <th>State</th>\n",
       "      <th></th>\n",
       "      <th></th>\n",
       "      <th></th>\n",
       "      <th></th>\n",
       "      <th></th>\n",
       "      <th></th>\n",
       "      <th></th>\n",
       "      <th></th>\n",
       "    </tr>\n",
       "  </thead>\n",
       "  <tbody>\n",
       "    <tr>\n",
       "      <th>Alabama</th>\n",
       "      <td>52420.07</td>\n",
       "      <td>135767</td>\n",
       "      <td>50645.33</td>\n",
       "      <td>131171</td>\n",
       "      <td>96.61</td>\n",
       "      <td>1774.74</td>\n",
       "      <td>4597</td>\n",
       "      <td>3.39</td>\n",
       "    </tr>\n",
       "    <tr>\n",
       "      <th>Alaska</th>\n",
       "      <td>665384.04</td>\n",
       "      <td>1723337</td>\n",
       "      <td>570640.95</td>\n",
       "      <td>1477953</td>\n",
       "      <td>85.76</td>\n",
       "      <td>94743.10</td>\n",
       "      <td>245384</td>\n",
       "      <td>14.24</td>\n",
       "    </tr>\n",
       "    <tr>\n",
       "      <th>Arizona</th>\n",
       "      <td>113990.30</td>\n",
       "      <td>295234</td>\n",
       "      <td>113594.08</td>\n",
       "      <td>294207</td>\n",
       "      <td>99.65</td>\n",
       "      <td>396.22</td>\n",
       "      <td>1026</td>\n",
       "      <td>0.35</td>\n",
       "    </tr>\n",
       "    <tr>\n",
       "      <th>Arkansas</th>\n",
       "      <td>53178.55</td>\n",
       "      <td>137732</td>\n",
       "      <td>52035.48</td>\n",
       "      <td>134771</td>\n",
       "      <td>97.85</td>\n",
       "      <td>1143.07</td>\n",
       "      <td>2961</td>\n",
       "      <td>2.15</td>\n",
       "    </tr>\n",
       "    <tr>\n",
       "      <th>California</th>\n",
       "      <td>163694.74</td>\n",
       "      <td>423967</td>\n",
       "      <td>155779.22</td>\n",
       "      <td>403466</td>\n",
       "      <td>95.16</td>\n",
       "      <td>7915.52</td>\n",
       "      <td>20501</td>\n",
       "      <td>4.84</td>\n",
       "    </tr>\n",
       "  </tbody>\n",
       "</table>\n",
       "</div>"
      ],
      "text/plain": [
       "            TotalSqMi  TotalKmQ   LandSqMi  LandKmQ  LandPer  WaterSqMi  \\\n",
       "State                                                                     \n",
       "Alabama      52420.07    135767   50645.33   131171    96.61    1774.74   \n",
       "Alaska      665384.04   1723337  570640.95  1477953    85.76   94743.10   \n",
       "Arizona     113990.30    295234  113594.08   294207    99.65     396.22   \n",
       "Arkansas     53178.55    137732   52035.48   134771    97.85    1143.07   \n",
       "California  163694.74    423967  155779.22   403466    95.16    7915.52   \n",
       "\n",
       "            WaterKmQ  WaterPer  \n",
       "State                           \n",
       "Alabama         4597      3.39  \n",
       "Alaska        245384     14.24  \n",
       "Arizona         1026      0.35  \n",
       "Arkansas        2961      2.15  \n",
       "California     20501      4.84  "
      ]
     },
     "execution_count": 15,
     "metadata": {},
     "output_type": "execute_result"
    }
   ],
   "source": [
    "area.head()"
   ]
  },
  {
   "cell_type": "code",
   "execution_count": 16,
   "metadata": {},
   "outputs": [],
   "source": [
    "region=pd.read_csv('region_clean.csv')\n",
    "region.set_index('State', inplace = True)"
   ]
  },
  {
   "cell_type": "code",
   "execution_count": 17,
   "metadata": {},
   "outputs": [
    {
     "data": {
      "text/html": [
       "<div>\n",
       "<style scoped>\n",
       "    .dataframe tbody tr th:only-of-type {\n",
       "        vertical-align: middle;\n",
       "    }\n",
       "\n",
       "    .dataframe tbody tr th {\n",
       "        vertical-align: top;\n",
       "    }\n",
       "\n",
       "    .dataframe thead th {\n",
       "        text-align: right;\n",
       "    }\n",
       "</style>\n",
       "<table border=\"1\" class=\"dataframe\">\n",
       "  <thead>\n",
       "    <tr style=\"text-align: right;\">\n",
       "      <th></th>\n",
       "      <th>Abb</th>\n",
       "      <th>Region</th>\n",
       "      <th>Division</th>\n",
       "    </tr>\n",
       "    <tr>\n",
       "      <th>State</th>\n",
       "      <th></th>\n",
       "      <th></th>\n",
       "      <th></th>\n",
       "    </tr>\n",
       "  </thead>\n",
       "  <tbody>\n",
       "    <tr>\n",
       "      <th>Alabama</th>\n",
       "      <td>AL</td>\n",
       "      <td>South</td>\n",
       "      <td>East South Central</td>\n",
       "    </tr>\n",
       "    <tr>\n",
       "      <th>Alaska</th>\n",
       "      <td>AK</td>\n",
       "      <td>West</td>\n",
       "      <td>Pacific</td>\n",
       "    </tr>\n",
       "    <tr>\n",
       "      <th>Arizona</th>\n",
       "      <td>AZ</td>\n",
       "      <td>West</td>\n",
       "      <td>Mountain</td>\n",
       "    </tr>\n",
       "    <tr>\n",
       "      <th>Arkansas</th>\n",
       "      <td>AR</td>\n",
       "      <td>South</td>\n",
       "      <td>West South Central</td>\n",
       "    </tr>\n",
       "    <tr>\n",
       "      <th>California</th>\n",
       "      <td>CA</td>\n",
       "      <td>West</td>\n",
       "      <td>Pacific</td>\n",
       "    </tr>\n",
       "  </tbody>\n",
       "</table>\n",
       "</div>"
      ],
      "text/plain": [
       "           Abb Region            Division\n",
       "State                                    \n",
       "Alabama     AL  South  East South Central\n",
       "Alaska      AK   West             Pacific\n",
       "Arizona     AZ   West            Mountain\n",
       "Arkansas    AR  South  West South Central\n",
       "California  CA   West             Pacific"
      ]
     },
     "execution_count": 17,
     "metadata": {},
     "output_type": "execute_result"
    }
   ],
   "source": [
    "region.head()"
   ]
  },
  {
   "cell_type": "code",
   "execution_count": 18,
   "metadata": {},
   "outputs": [],
   "source": [
    "# create one large DataFrame and we then create views for it"
   ]
  },
  {
   "cell_type": "code",
   "execution_count": 19,
   "metadata": {},
   "outputs": [],
   "source": [
    "df=pd.merge(edu,life_exp, how='inner', on='State')"
   ]
  },
  {
   "cell_type": "code",
   "execution_count": 20,
   "metadata": {},
   "outputs": [
    {
     "data": {
      "text/html": [
       "<div>\n",
       "<style scoped>\n",
       "    .dataframe tbody tr th:only-of-type {\n",
       "        vertical-align: middle;\n",
       "    }\n",
       "\n",
       "    .dataframe tbody tr th {\n",
       "        vertical-align: top;\n",
       "    }\n",
       "\n",
       "    .dataframe thead th {\n",
       "        text-align: right;\n",
       "    }\n",
       "</style>\n",
       "<table border=\"1\" class=\"dataframe\">\n",
       "  <thead>\n",
       "    <tr style=\"text-align: right;\">\n",
       "      <th>State</th>\n",
       "      <th>Alabama</th>\n",
       "      <th>Alaska</th>\n",
       "      <th>Arizona</th>\n",
       "      <th>Arkansas</th>\n",
       "      <th>California</th>\n",
       "    </tr>\n",
       "  </thead>\n",
       "  <tbody>\n",
       "    <tr>\n",
       "      <th>HSGradPer</th>\n",
       "      <td>85.3</td>\n",
       "      <td>92.4</td>\n",
       "      <td>82.1</td>\n",
       "      <td>85.6</td>\n",
       "      <td>82.5</td>\n",
       "    </tr>\n",
       "    <tr>\n",
       "      <th>BADegPer</th>\n",
       "      <td>24.5</td>\n",
       "      <td>29.0</td>\n",
       "      <td>28.4</td>\n",
       "      <td>22.0</td>\n",
       "      <td>32.6</td>\n",
       "    </tr>\n",
       "    <tr>\n",
       "      <th>AdvDegPer</th>\n",
       "      <td>9.1</td>\n",
       "      <td>10.4</td>\n",
       "      <td>10.7</td>\n",
       "      <td>7.9</td>\n",
       "      <td>12.2</td>\n",
       "    </tr>\n",
       "    <tr>\n",
       "      <th>LifeExp2018</th>\n",
       "      <td>75.4</td>\n",
       "      <td>78.8</td>\n",
       "      <td>79.9</td>\n",
       "      <td>75.9</td>\n",
       "      <td>81.6</td>\n",
       "    </tr>\n",
       "    <tr>\n",
       "      <th>LifeExp2010</th>\n",
       "      <td>75.4</td>\n",
       "      <td>78.0</td>\n",
       "      <td>79.3</td>\n",
       "      <td>76.0</td>\n",
       "      <td>80.6</td>\n",
       "    </tr>\n",
       "    <tr>\n",
       "      <th>MaleLifeExp</th>\n",
       "      <td>72.6</td>\n",
       "      <td>76.7</td>\n",
       "      <td>77.5</td>\n",
       "      <td>73.1</td>\n",
       "      <td>79.4</td>\n",
       "    </tr>\n",
       "    <tr>\n",
       "      <th>FemLifeExp</th>\n",
       "      <td>78.1</td>\n",
       "      <td>81.2</td>\n",
       "      <td>82.3</td>\n",
       "      <td>78.6</td>\n",
       "      <td>83.8</td>\n",
       "    </tr>\n",
       "  </tbody>\n",
       "</table>\n",
       "</div>"
      ],
      "text/plain": [
       "State        Alabama  Alaska  Arizona  Arkansas  California\n",
       "HSGradPer       85.3    92.4     82.1      85.6        82.5\n",
       "BADegPer        24.5    29.0     28.4      22.0        32.6\n",
       "AdvDegPer        9.1    10.4     10.7       7.9        12.2\n",
       "LifeExp2018     75.4    78.8     79.9      75.9        81.6\n",
       "LifeExp2010     75.4    78.0     79.3      76.0        80.6\n",
       "MaleLifeExp     72.6    76.7     77.5      73.1        79.4\n",
       "FemLifeExp      78.1    81.2     82.3      78.6        83.8"
      ]
     },
     "execution_count": 20,
     "metadata": {},
     "output_type": "execute_result"
    }
   ],
   "source": [
    "df.head().T"
   ]
  },
  {
   "cell_type": "code",
   "execution_count": 21,
   "metadata": {},
   "outputs": [],
   "source": [
    "df=pd.merge(df,crime,how='inner',on='State')"
   ]
  },
  {
   "cell_type": "code",
   "execution_count": 22,
   "metadata": {},
   "outputs": [
    {
     "data": {
      "text/html": [
       "<div>\n",
       "<style scoped>\n",
       "    .dataframe tbody tr th:only-of-type {\n",
       "        vertical-align: middle;\n",
       "    }\n",
       "\n",
       "    .dataframe tbody tr th {\n",
       "        vertical-align: top;\n",
       "    }\n",
       "\n",
       "    .dataframe thead th {\n",
       "        text-align: right;\n",
       "    }\n",
       "</style>\n",
       "<table border=\"1\" class=\"dataframe\">\n",
       "  <thead>\n",
       "    <tr style=\"text-align: right;\">\n",
       "      <th>State</th>\n",
       "      <th>Alabama</th>\n",
       "      <th>Alaska</th>\n",
       "      <th>Arizona</th>\n",
       "      <th>Arkansas</th>\n",
       "      <th>California</th>\n",
       "    </tr>\n",
       "  </thead>\n",
       "  <tbody>\n",
       "    <tr>\n",
       "      <th>HSGradPer</th>\n",
       "      <td>85.3</td>\n",
       "      <td>92.4</td>\n",
       "      <td>82.1</td>\n",
       "      <td>85.6</td>\n",
       "      <td>82.5</td>\n",
       "    </tr>\n",
       "    <tr>\n",
       "      <th>BADegPer</th>\n",
       "      <td>24.5</td>\n",
       "      <td>29.0</td>\n",
       "      <td>28.4</td>\n",
       "      <td>22.0</td>\n",
       "      <td>32.6</td>\n",
       "    </tr>\n",
       "    <tr>\n",
       "      <th>AdvDegPer</th>\n",
       "      <td>9.1</td>\n",
       "      <td>10.4</td>\n",
       "      <td>10.7</td>\n",
       "      <td>7.9</td>\n",
       "      <td>12.2</td>\n",
       "    </tr>\n",
       "    <tr>\n",
       "      <th>LifeExp2018</th>\n",
       "      <td>75.4</td>\n",
       "      <td>78.8</td>\n",
       "      <td>79.9</td>\n",
       "      <td>75.9</td>\n",
       "      <td>81.6</td>\n",
       "    </tr>\n",
       "    <tr>\n",
       "      <th>LifeExp2010</th>\n",
       "      <td>75.4</td>\n",
       "      <td>78.0</td>\n",
       "      <td>79.3</td>\n",
       "      <td>76.0</td>\n",
       "      <td>80.6</td>\n",
       "    </tr>\n",
       "    <tr>\n",
       "      <th>MaleLifeExp</th>\n",
       "      <td>72.6</td>\n",
       "      <td>76.7</td>\n",
       "      <td>77.5</td>\n",
       "      <td>73.1</td>\n",
       "      <td>79.4</td>\n",
       "    </tr>\n",
       "    <tr>\n",
       "      <th>FemLifeExp</th>\n",
       "      <td>78.1</td>\n",
       "      <td>81.2</td>\n",
       "      <td>82.3</td>\n",
       "      <td>78.6</td>\n",
       "      <td>83.8</td>\n",
       "    </tr>\n",
       "    <tr>\n",
       "      <th>PopTot</th>\n",
       "      <td>4853875.0</td>\n",
       "      <td>737709.0</td>\n",
       "      <td>6817565.0</td>\n",
       "      <td>2977853.0</td>\n",
       "      <td>38993940.0</td>\n",
       "    </tr>\n",
       "    <tr>\n",
       "      <th>MurderNMTot</th>\n",
       "      <td>348.0</td>\n",
       "      <td>59.0</td>\n",
       "      <td>306.0</td>\n",
       "      <td>181.0</td>\n",
       "      <td>1861.0</td>\n",
       "    </tr>\n",
       "    <tr>\n",
       "      <th>MurderTot</th>\n",
       "      <td>NaN</td>\n",
       "      <td>57.0</td>\n",
       "      <td>278.0</td>\n",
       "      <td>164.0</td>\n",
       "      <td>1861.0</td>\n",
       "    </tr>\n",
       "    <tr>\n",
       "      <th>GunMurderTot</th>\n",
       "      <td>NaN</td>\n",
       "      <td>39.0</td>\n",
       "      <td>171.0</td>\n",
       "      <td>110.0</td>\n",
       "      <td>1275.0</td>\n",
       "    </tr>\n",
       "    <tr>\n",
       "      <th>GunOwnPer</th>\n",
       "      <td>48.9</td>\n",
       "      <td>61.7</td>\n",
       "      <td>32.3</td>\n",
       "      <td>57.9</td>\n",
       "      <td>20.1</td>\n",
       "    </tr>\n",
       "    <tr>\n",
       "      <th>MurderNMRate</th>\n",
       "      <td>7.2</td>\n",
       "      <td>8.0</td>\n",
       "      <td>4.5</td>\n",
       "      <td>6.1</td>\n",
       "      <td>4.8</td>\n",
       "    </tr>\n",
       "    <tr>\n",
       "      <th>MurderRate</th>\n",
       "      <td>NaN</td>\n",
       "      <td>7.7</td>\n",
       "      <td>4.1</td>\n",
       "      <td>5.5</td>\n",
       "      <td>4.8</td>\n",
       "    </tr>\n",
       "    <tr>\n",
       "      <th>GunMurderRate</th>\n",
       "      <td>NaN</td>\n",
       "      <td>5.3</td>\n",
       "      <td>2.5</td>\n",
       "      <td>3.7</td>\n",
       "      <td>3.3</td>\n",
       "    </tr>\n",
       "  </tbody>\n",
       "</table>\n",
       "</div>"
      ],
      "text/plain": [
       "State            Alabama    Alaska    Arizona   Arkansas  California\n",
       "HSGradPer           85.3      92.4       82.1       85.6        82.5\n",
       "BADegPer            24.5      29.0       28.4       22.0        32.6\n",
       "AdvDegPer            9.1      10.4       10.7        7.9        12.2\n",
       "LifeExp2018         75.4      78.8       79.9       75.9        81.6\n",
       "LifeExp2010         75.4      78.0       79.3       76.0        80.6\n",
       "MaleLifeExp         72.6      76.7       77.5       73.1        79.4\n",
       "FemLifeExp          78.1      81.2       82.3       78.6        83.8\n",
       "PopTot         4853875.0  737709.0  6817565.0  2977853.0  38993940.0\n",
       "MurderNMTot        348.0      59.0      306.0      181.0      1861.0\n",
       "MurderTot            NaN      57.0      278.0      164.0      1861.0\n",
       "GunMurderTot         NaN      39.0      171.0      110.0      1275.0\n",
       "GunOwnPer           48.9      61.7       32.3       57.9        20.1\n",
       "MurderNMRate         7.2       8.0        4.5        6.1         4.8\n",
       "MurderRate           NaN       7.7        4.1        5.5         4.8\n",
       "GunMurderRate        NaN       5.3        2.5        3.7         3.3"
      ]
     },
     "execution_count": 22,
     "metadata": {},
     "output_type": "execute_result"
    }
   ],
   "source": [
    "df.head().T"
   ]
  },
  {
   "cell_type": "code",
   "execution_count": 23,
   "metadata": {},
   "outputs": [],
   "source": [
    "df=pd.merge(df,area,how='inner',on='State')"
   ]
  },
  {
   "cell_type": "code",
   "execution_count": 24,
   "metadata": {},
   "outputs": [],
   "source": [
    "df=pd.merge(df,income,how='inner',on='State')"
   ]
  },
  {
   "cell_type": "code",
   "execution_count": 25,
   "metadata": {},
   "outputs": [],
   "source": [
    "df=pd.merge(df,region,how='inner',on='State')"
   ]
  },
  {
   "cell_type": "code",
   "execution_count": 26,
   "metadata": {},
   "outputs": [
    {
     "data": {
      "text/html": [
       "<div>\n",
       "<style scoped>\n",
       "    .dataframe tbody tr th:only-of-type {\n",
       "        vertical-align: middle;\n",
       "    }\n",
       "\n",
       "    .dataframe tbody tr th {\n",
       "        vertical-align: top;\n",
       "    }\n",
       "\n",
       "    .dataframe thead th {\n",
       "        text-align: right;\n",
       "    }\n",
       "</style>\n",
       "<table border=\"1\" class=\"dataframe\">\n",
       "  <thead>\n",
       "    <tr style=\"text-align: right;\">\n",
       "      <th>State</th>\n",
       "      <th>Alabama</th>\n",
       "      <th>Alaska</th>\n",
       "      <th>Arizona</th>\n",
       "      <th>Arkansas</th>\n",
       "      <th>California</th>\n",
       "    </tr>\n",
       "  </thead>\n",
       "  <tbody>\n",
       "    <tr>\n",
       "      <th>HSGradPer</th>\n",
       "      <td>85.3</td>\n",
       "      <td>92.4</td>\n",
       "      <td>82.1</td>\n",
       "      <td>85.6</td>\n",
       "      <td>82.5</td>\n",
       "    </tr>\n",
       "    <tr>\n",
       "      <th>BADegPer</th>\n",
       "      <td>24.5</td>\n",
       "      <td>29</td>\n",
       "      <td>28.4</td>\n",
       "      <td>22</td>\n",
       "      <td>32.6</td>\n",
       "    </tr>\n",
       "    <tr>\n",
       "      <th>AdvDegPer</th>\n",
       "      <td>9.1</td>\n",
       "      <td>10.4</td>\n",
       "      <td>10.7</td>\n",
       "      <td>7.9</td>\n",
       "      <td>12.2</td>\n",
       "    </tr>\n",
       "    <tr>\n",
       "      <th>LifeExp2018</th>\n",
       "      <td>75.4</td>\n",
       "      <td>78.8</td>\n",
       "      <td>79.9</td>\n",
       "      <td>75.9</td>\n",
       "      <td>81.6</td>\n",
       "    </tr>\n",
       "    <tr>\n",
       "      <th>LifeExp2010</th>\n",
       "      <td>75.4</td>\n",
       "      <td>78</td>\n",
       "      <td>79.3</td>\n",
       "      <td>76</td>\n",
       "      <td>80.6</td>\n",
       "    </tr>\n",
       "    <tr>\n",
       "      <th>MaleLifeExp</th>\n",
       "      <td>72.6</td>\n",
       "      <td>76.7</td>\n",
       "      <td>77.5</td>\n",
       "      <td>73.1</td>\n",
       "      <td>79.4</td>\n",
       "    </tr>\n",
       "    <tr>\n",
       "      <th>FemLifeExp</th>\n",
       "      <td>78.1</td>\n",
       "      <td>81.2</td>\n",
       "      <td>82.3</td>\n",
       "      <td>78.6</td>\n",
       "      <td>83.8</td>\n",
       "    </tr>\n",
       "    <tr>\n",
       "      <th>PopTot</th>\n",
       "      <td>4853875</td>\n",
       "      <td>737709</td>\n",
       "      <td>6817565</td>\n",
       "      <td>2977853</td>\n",
       "      <td>38993940</td>\n",
       "    </tr>\n",
       "    <tr>\n",
       "      <th>MurderNMTot</th>\n",
       "      <td>348</td>\n",
       "      <td>59</td>\n",
       "      <td>306</td>\n",
       "      <td>181</td>\n",
       "      <td>1861</td>\n",
       "    </tr>\n",
       "    <tr>\n",
       "      <th>MurderTot</th>\n",
       "      <td>NaN</td>\n",
       "      <td>57</td>\n",
       "      <td>278</td>\n",
       "      <td>164</td>\n",
       "      <td>1861</td>\n",
       "    </tr>\n",
       "    <tr>\n",
       "      <th>GunMurderTot</th>\n",
       "      <td>NaN</td>\n",
       "      <td>39</td>\n",
       "      <td>171</td>\n",
       "      <td>110</td>\n",
       "      <td>1275</td>\n",
       "    </tr>\n",
       "    <tr>\n",
       "      <th>GunOwnPer</th>\n",
       "      <td>48.9</td>\n",
       "      <td>61.7</td>\n",
       "      <td>32.3</td>\n",
       "      <td>57.9</td>\n",
       "      <td>20.1</td>\n",
       "    </tr>\n",
       "    <tr>\n",
       "      <th>MurderNMRate</th>\n",
       "      <td>7.2</td>\n",
       "      <td>8</td>\n",
       "      <td>4.5</td>\n",
       "      <td>6.1</td>\n",
       "      <td>4.8</td>\n",
       "    </tr>\n",
       "    <tr>\n",
       "      <th>MurderRate</th>\n",
       "      <td>NaN</td>\n",
       "      <td>7.7</td>\n",
       "      <td>4.1</td>\n",
       "      <td>5.5</td>\n",
       "      <td>4.8</td>\n",
       "    </tr>\n",
       "    <tr>\n",
       "      <th>GunMurderRate</th>\n",
       "      <td>NaN</td>\n",
       "      <td>5.3</td>\n",
       "      <td>2.5</td>\n",
       "      <td>3.7</td>\n",
       "      <td>3.3</td>\n",
       "    </tr>\n",
       "    <tr>\n",
       "      <th>TotalSqMi</th>\n",
       "      <td>52420.1</td>\n",
       "      <td>665384</td>\n",
       "      <td>113990</td>\n",
       "      <td>53178.6</td>\n",
       "      <td>163695</td>\n",
       "    </tr>\n",
       "    <tr>\n",
       "      <th>TotalKmQ</th>\n",
       "      <td>135767</td>\n",
       "      <td>1723337</td>\n",
       "      <td>295234</td>\n",
       "      <td>137732</td>\n",
       "      <td>423967</td>\n",
       "    </tr>\n",
       "    <tr>\n",
       "      <th>LandSqMi</th>\n",
       "      <td>50645.3</td>\n",
       "      <td>570641</td>\n",
       "      <td>113594</td>\n",
       "      <td>52035.5</td>\n",
       "      <td>155779</td>\n",
       "    </tr>\n",
       "    <tr>\n",
       "      <th>LandKmQ</th>\n",
       "      <td>131171</td>\n",
       "      <td>1477953</td>\n",
       "      <td>294207</td>\n",
       "      <td>134771</td>\n",
       "      <td>403466</td>\n",
       "    </tr>\n",
       "    <tr>\n",
       "      <th>LandPer</th>\n",
       "      <td>96.61</td>\n",
       "      <td>85.76</td>\n",
       "      <td>99.65</td>\n",
       "      <td>97.85</td>\n",
       "      <td>95.16</td>\n",
       "    </tr>\n",
       "    <tr>\n",
       "      <th>WaterSqMi</th>\n",
       "      <td>1774.74</td>\n",
       "      <td>94743.1</td>\n",
       "      <td>396.22</td>\n",
       "      <td>1143.07</td>\n",
       "      <td>7915.52</td>\n",
       "    </tr>\n",
       "    <tr>\n",
       "      <th>WaterKmQ</th>\n",
       "      <td>4597</td>\n",
       "      <td>245384</td>\n",
       "      <td>1026</td>\n",
       "      <td>2961</td>\n",
       "      <td>20501</td>\n",
       "    </tr>\n",
       "    <tr>\n",
       "      <th>WaterPer</th>\n",
       "      <td>3.39</td>\n",
       "      <td>14.24</td>\n",
       "      <td>0.35</td>\n",
       "      <td>2.15</td>\n",
       "      <td>4.84</td>\n",
       "    </tr>\n",
       "    <tr>\n",
       "      <th>Income2017</th>\n",
       "      <td>48123</td>\n",
       "      <td>73181</td>\n",
       "      <td>56581</td>\n",
       "      <td>45869</td>\n",
       "      <td>71805</td>\n",
       "    </tr>\n",
       "    <tr>\n",
       "      <th>Income2016</th>\n",
       "      <td>46257</td>\n",
       "      <td>76440</td>\n",
       "      <td>53558</td>\n",
       "      <td>45907</td>\n",
       "      <td>67739</td>\n",
       "    </tr>\n",
       "    <tr>\n",
       "      <th>Income2015</th>\n",
       "      <td>44765</td>\n",
       "      <td>73355</td>\n",
       "      <td>51492</td>\n",
       "      <td>42798</td>\n",
       "      <td>64500</td>\n",
       "    </tr>\n",
       "    <tr>\n",
       "      <th>Income2014</th>\n",
       "      <td>42830</td>\n",
       "      <td>71583</td>\n",
       "      <td>50068</td>\n",
       "      <td>44922</td>\n",
       "      <td>61933</td>\n",
       "    </tr>\n",
       "    <tr>\n",
       "      <th>Income2013</th>\n",
       "      <td>42849</td>\n",
       "      <td>72237</td>\n",
       "      <td>48510</td>\n",
       "      <td>39376</td>\n",
       "      <td>60190</td>\n",
       "    </tr>\n",
       "    <tr>\n",
       "      <th>Income2012</th>\n",
       "      <td>41574</td>\n",
       "      <td>67712</td>\n",
       "      <td>47826</td>\n",
       "      <td>39018</td>\n",
       "      <td>58328</td>\n",
       "    </tr>\n",
       "    <tr>\n",
       "      <th>Income2011</th>\n",
       "      <td>41415</td>\n",
       "      <td>67825</td>\n",
       "      <td>46709</td>\n",
       "      <td>41302</td>\n",
       "      <td>57287</td>\n",
       "    </tr>\n",
       "    <tr>\n",
       "      <th>Income2010</th>\n",
       "      <td>40474</td>\n",
       "      <td>64576</td>\n",
       "      <td>46789</td>\n",
       "      <td>38587</td>\n",
       "      <td>57708</td>\n",
       "    </tr>\n",
       "    <tr>\n",
       "      <th>Income2009</th>\n",
       "      <td>40489</td>\n",
       "      <td>66953</td>\n",
       "      <td>48745</td>\n",
       "      <td>36538</td>\n",
       "      <td>58931</td>\n",
       "    </tr>\n",
       "    <tr>\n",
       "      <th>Income2008</th>\n",
       "      <td>42666</td>\n",
       "      <td>68460</td>\n",
       "      <td>50958</td>\n",
       "      <td>39586</td>\n",
       "      <td>61021</td>\n",
       "    </tr>\n",
       "    <tr>\n",
       "      <th>Income2007</th>\n",
       "      <td>40554</td>\n",
       "      <td>64333</td>\n",
       "      <td>49889</td>\n",
       "      <td>38134</td>\n",
       "      <td>59948</td>\n",
       "    </tr>\n",
       "    <tr>\n",
       "      <th>Abb</th>\n",
       "      <td>AL</td>\n",
       "      <td>AK</td>\n",
       "      <td>AZ</td>\n",
       "      <td>AR</td>\n",
       "      <td>CA</td>\n",
       "    </tr>\n",
       "    <tr>\n",
       "      <th>Region</th>\n",
       "      <td>South</td>\n",
       "      <td>West</td>\n",
       "      <td>West</td>\n",
       "      <td>South</td>\n",
       "      <td>West</td>\n",
       "    </tr>\n",
       "    <tr>\n",
       "      <th>Division</th>\n",
       "      <td>East South Central</td>\n",
       "      <td>Pacific</td>\n",
       "      <td>Mountain</td>\n",
       "      <td>West South Central</td>\n",
       "      <td>Pacific</td>\n",
       "    </tr>\n",
       "  </tbody>\n",
       "</table>\n",
       "</div>"
      ],
      "text/plain": [
       "State                     Alabama   Alaska   Arizona            Arkansas  \\\n",
       "HSGradPer                    85.3     92.4      82.1                85.6   \n",
       "BADegPer                     24.5       29      28.4                  22   \n",
       "AdvDegPer                     9.1     10.4      10.7                 7.9   \n",
       "LifeExp2018                  75.4     78.8      79.9                75.9   \n",
       "LifeExp2010                  75.4       78      79.3                  76   \n",
       "MaleLifeExp                  72.6     76.7      77.5                73.1   \n",
       "FemLifeExp                   78.1     81.2      82.3                78.6   \n",
       "PopTot                    4853875   737709   6817565             2977853   \n",
       "MurderNMTot                   348       59       306                 181   \n",
       "MurderTot                     NaN       57       278                 164   \n",
       "GunMurderTot                  NaN       39       171                 110   \n",
       "GunOwnPer                    48.9     61.7      32.3                57.9   \n",
       "MurderNMRate                  7.2        8       4.5                 6.1   \n",
       "MurderRate                    NaN      7.7       4.1                 5.5   \n",
       "GunMurderRate                 NaN      5.3       2.5                 3.7   \n",
       "TotalSqMi                 52420.1   665384    113990             53178.6   \n",
       "TotalKmQ                   135767  1723337    295234              137732   \n",
       "LandSqMi                  50645.3   570641    113594             52035.5   \n",
       "LandKmQ                    131171  1477953    294207              134771   \n",
       "LandPer                     96.61    85.76     99.65               97.85   \n",
       "WaterSqMi                 1774.74  94743.1    396.22             1143.07   \n",
       "WaterKmQ                     4597   245384      1026                2961   \n",
       "WaterPer                     3.39    14.24      0.35                2.15   \n",
       "Income2017                  48123    73181     56581               45869   \n",
       "Income2016                  46257    76440     53558               45907   \n",
       "Income2015                  44765    73355     51492               42798   \n",
       "Income2014                  42830    71583     50068               44922   \n",
       "Income2013                  42849    72237     48510               39376   \n",
       "Income2012                  41574    67712     47826               39018   \n",
       "Income2011                  41415    67825     46709               41302   \n",
       "Income2010                  40474    64576     46789               38587   \n",
       "Income2009                  40489    66953     48745               36538   \n",
       "Income2008                  42666    68460     50958               39586   \n",
       "Income2007                  40554    64333     49889               38134   \n",
       "Abb                            AL       AK        AZ                  AR   \n",
       "Region                      South     West      West               South   \n",
       "Division       East South Central  Pacific  Mountain  West South Central   \n",
       "\n",
       "State         California  \n",
       "HSGradPer           82.5  \n",
       "BADegPer            32.6  \n",
       "AdvDegPer           12.2  \n",
       "LifeExp2018         81.6  \n",
       "LifeExp2010         80.6  \n",
       "MaleLifeExp         79.4  \n",
       "FemLifeExp          83.8  \n",
       "PopTot          38993940  \n",
       "MurderNMTot         1861  \n",
       "MurderTot           1861  \n",
       "GunMurderTot        1275  \n",
       "GunOwnPer           20.1  \n",
       "MurderNMRate         4.8  \n",
       "MurderRate           4.8  \n",
       "GunMurderRate        3.3  \n",
       "TotalSqMi         163695  \n",
       "TotalKmQ          423967  \n",
       "LandSqMi          155779  \n",
       "LandKmQ           403466  \n",
       "LandPer            95.16  \n",
       "WaterSqMi        7915.52  \n",
       "WaterKmQ           20501  \n",
       "WaterPer            4.84  \n",
       "Income2017         71805  \n",
       "Income2016         67739  \n",
       "Income2015         64500  \n",
       "Income2014         61933  \n",
       "Income2013         60190  \n",
       "Income2012         58328  \n",
       "Income2011         57287  \n",
       "Income2010         57708  \n",
       "Income2009         58931  \n",
       "Income2008         61021  \n",
       "Income2007         59948  \n",
       "Abb                   CA  \n",
       "Region              West  \n",
       "Division         Pacific  "
      ]
     },
     "execution_count": 26,
     "metadata": {},
     "output_type": "execute_result"
    }
   ],
   "source": [
    "df.head().T"
   ]
  },
  {
   "cell_type": "code",
   "execution_count": 27,
   "metadata": {},
   "outputs": [
    {
     "name": "stdout",
     "output_type": "stream",
     "text": [
      "<class 'pandas.core.frame.DataFrame'>\n",
      "Index: 50 entries, Alabama to Wyoming\n",
      "Data columns (total 37 columns):\n",
      " #   Column         Non-Null Count  Dtype  \n",
      "---  ------         --------------  -----  \n",
      " 0   HSGradPer      50 non-null     float64\n",
      " 1   BADegPer       50 non-null     float64\n",
      " 2   AdvDegPer      50 non-null     float64\n",
      " 3   LifeExp2018    50 non-null     float64\n",
      " 4   LifeExp2010    50 non-null     float64\n",
      " 5   MaleLifeExp    50 non-null     float64\n",
      " 6   FemLifeExp     50 non-null     float64\n",
      " 7   PopTot         50 non-null     int64  \n",
      " 8   MurderNMTot    50 non-null     int64  \n",
      " 9   MurderTot      48 non-null     float64\n",
      " 10  GunMurderTot   48 non-null     float64\n",
      " 11  GunOwnPer      50 non-null     float64\n",
      " 12  MurderNMRate   50 non-null     float64\n",
      " 13  MurderRate     48 non-null     float64\n",
      " 14  GunMurderRate  48 non-null     float64\n",
      " 15  TotalSqMi      50 non-null     float64\n",
      " 16  TotalKmQ       50 non-null     int64  \n",
      " 17  LandSqMi       50 non-null     float64\n",
      " 18  LandKmQ        50 non-null     int64  \n",
      " 19  LandPer        50 non-null     float64\n",
      " 20  WaterSqMi      50 non-null     float64\n",
      " 21  WaterKmQ       50 non-null     int64  \n",
      " 22  WaterPer       50 non-null     float64\n",
      " 23  Income2017     50 non-null     int64  \n",
      " 24  Income2016     50 non-null     int64  \n",
      " 25  Income2015     50 non-null     int64  \n",
      " 26  Income2014     50 non-null     int64  \n",
      " 27  Income2013     50 non-null     int64  \n",
      " 28  Income2012     50 non-null     int64  \n",
      " 29  Income2011     50 non-null     int64  \n",
      " 30  Income2010     50 non-null     int64  \n",
      " 31  Income2009     50 non-null     int64  \n",
      " 32  Income2008     50 non-null     int64  \n",
      " 33  Income2007     50 non-null     int64  \n",
      " 34  Abb            50 non-null     object \n",
      " 35  Region         50 non-null     object \n",
      " 36  Division       50 non-null     object \n",
      "dtypes: float64(18), int64(16), object(3)\n",
      "memory usage: 14.8+ KB\n"
     ]
    }
   ],
   "source": [
    "df.info()"
   ]
  },
  {
   "cell_type": "code",
   "execution_count": 28,
   "metadata": {},
   "outputs": [],
   "source": [
    "df['Region']=pd.Categorical(df['Region'],ordered=False)"
   ]
  },
  {
   "cell_type": "code",
   "execution_count": 29,
   "metadata": {},
   "outputs": [
    {
     "name": "stdout",
     "output_type": "stream",
     "text": [
      "<class 'pandas.core.frame.DataFrame'>\n",
      "Index: 50 entries, Alabama to Wyoming\n",
      "Data columns (total 37 columns):\n",
      " #   Column         Non-Null Count  Dtype   \n",
      "---  ------         --------------  -----   \n",
      " 0   HSGradPer      50 non-null     float64 \n",
      " 1   BADegPer       50 non-null     float64 \n",
      " 2   AdvDegPer      50 non-null     float64 \n",
      " 3   LifeExp2018    50 non-null     float64 \n",
      " 4   LifeExp2010    50 non-null     float64 \n",
      " 5   MaleLifeExp    50 non-null     float64 \n",
      " 6   FemLifeExp     50 non-null     float64 \n",
      " 7   PopTot         50 non-null     int64   \n",
      " 8   MurderNMTot    50 non-null     int64   \n",
      " 9   MurderTot      48 non-null     float64 \n",
      " 10  GunMurderTot   48 non-null     float64 \n",
      " 11  GunOwnPer      50 non-null     float64 \n",
      " 12  MurderNMRate   50 non-null     float64 \n",
      " 13  MurderRate     48 non-null     float64 \n",
      " 14  GunMurderRate  48 non-null     float64 \n",
      " 15  TotalSqMi      50 non-null     float64 \n",
      " 16  TotalKmQ       50 non-null     int64   \n",
      " 17  LandSqMi       50 non-null     float64 \n",
      " 18  LandKmQ        50 non-null     int64   \n",
      " 19  LandPer        50 non-null     float64 \n",
      " 20  WaterSqMi      50 non-null     float64 \n",
      " 21  WaterKmQ       50 non-null     int64   \n",
      " 22  WaterPer       50 non-null     float64 \n",
      " 23  Income2017     50 non-null     int64   \n",
      " 24  Income2016     50 non-null     int64   \n",
      " 25  Income2015     50 non-null     int64   \n",
      " 26  Income2014     50 non-null     int64   \n",
      " 27  Income2013     50 non-null     int64   \n",
      " 28  Income2012     50 non-null     int64   \n",
      " 29  Income2011     50 non-null     int64   \n",
      " 30  Income2010     50 non-null     int64   \n",
      " 31  Income2009     50 non-null     int64   \n",
      " 32  Income2008     50 non-null     int64   \n",
      " 33  Income2007     50 non-null     int64   \n",
      " 34  Abb            50 non-null     object  \n",
      " 35  Region         50 non-null     category\n",
      " 36  Division       50 non-null     object  \n",
      "dtypes: category(1), float64(18), int64(16), object(2)\n",
      "memory usage: 14.7+ KB\n"
     ]
    }
   ],
   "source": [
    "df.info()"
   ]
  },
  {
   "cell_type": "code",
   "execution_count": 30,
   "metadata": {},
   "outputs": [],
   "source": [
    "df['Division']=pd.Categorical(df['Division'],ordered=False)"
   ]
  },
  {
   "cell_type": "code",
   "execution_count": 31,
   "metadata": {},
   "outputs": [
    {
     "name": "stdout",
     "output_type": "stream",
     "text": [
      "<class 'pandas.core.frame.DataFrame'>\n",
      "Index: 50 entries, Alabama to Wyoming\n",
      "Data columns (total 37 columns):\n",
      " #   Column         Non-Null Count  Dtype   \n",
      "---  ------         --------------  -----   \n",
      " 0   HSGradPer      50 non-null     float64 \n",
      " 1   BADegPer       50 non-null     float64 \n",
      " 2   AdvDegPer      50 non-null     float64 \n",
      " 3   LifeExp2018    50 non-null     float64 \n",
      " 4   LifeExp2010    50 non-null     float64 \n",
      " 5   MaleLifeExp    50 non-null     float64 \n",
      " 6   FemLifeExp     50 non-null     float64 \n",
      " 7   PopTot         50 non-null     int64   \n",
      " 8   MurderNMTot    50 non-null     int64   \n",
      " 9   MurderTot      48 non-null     float64 \n",
      " 10  GunMurderTot   48 non-null     float64 \n",
      " 11  GunOwnPer      50 non-null     float64 \n",
      " 12  MurderNMRate   50 non-null     float64 \n",
      " 13  MurderRate     48 non-null     float64 \n",
      " 14  GunMurderRate  48 non-null     float64 \n",
      " 15  TotalSqMi      50 non-null     float64 \n",
      " 16  TotalKmQ       50 non-null     int64   \n",
      " 17  LandSqMi       50 non-null     float64 \n",
      " 18  LandKmQ        50 non-null     int64   \n",
      " 19  LandPer        50 non-null     float64 \n",
      " 20  WaterSqMi      50 non-null     float64 \n",
      " 21  WaterKmQ       50 non-null     int64   \n",
      " 22  WaterPer       50 non-null     float64 \n",
      " 23  Income2017     50 non-null     int64   \n",
      " 24  Income2016     50 non-null     int64   \n",
      " 25  Income2015     50 non-null     int64   \n",
      " 26  Income2014     50 non-null     int64   \n",
      " 27  Income2013     50 non-null     int64   \n",
      " 28  Income2012     50 non-null     int64   \n",
      " 29  Income2011     50 non-null     int64   \n",
      " 30  Income2010     50 non-null     int64   \n",
      " 31  Income2009     50 non-null     int64   \n",
      " 32  Income2008     50 non-null     int64   \n",
      " 33  Income2007     50 non-null     int64   \n",
      " 34  Abb            50 non-null     object  \n",
      " 35  Region         50 non-null     category\n",
      " 36  Division       50 non-null     category\n",
      "dtypes: category(2), float64(18), int64(16), object(1)\n",
      "memory usage: 14.7+ KB\n"
     ]
    }
   ],
   "source": [
    "df.info()"
   ]
  },
  {
   "cell_type": "code",
   "execution_count": 32,
   "metadata": {},
   "outputs": [
    {
     "data": {
      "text/plain": [
       "CategoricalDtype(categories=['East North Central', 'East South Central',\n",
       "                  'Middle Atlantic', 'Mountain', 'New England', 'Pacific',\n",
       "                  'South Atlantic', 'West North Central',\n",
       "                  'West South Central'],\n",
       "                 ordered=False)"
      ]
     },
     "execution_count": 32,
     "metadata": {},
     "output_type": "execute_result"
    }
   ],
   "source": [
    "df.Division.dtype"
   ]
  },
  {
   "cell_type": "code",
   "execution_count": 33,
   "metadata": {},
   "outputs": [
    {
     "data": {
      "text/plain": [
       "CategoricalDtype(categories=['North Central', 'Northeast', 'South', 'West'], ordered=False)"
      ]
     },
     "execution_count": 33,
     "metadata": {},
     "output_type": "execute_result"
    }
   ],
   "source": [
    "df.Region.dtype\n"
   ]
  },
  {
   "cell_type": "code",
   "execution_count": 34,
   "metadata": {},
   "outputs": [],
   "source": [
    "# Looking at Distribution of Single Variables"
   ]
  },
  {
   "cell_type": "code",
   "execution_count": 35,
   "metadata": {},
   "outputs": [
    {
     "data": {
      "text/plain": [
       "count    50.000000\n",
       "mean     78.698000\n",
       "std       1.799262\n",
       "min      74.800000\n",
       "25%      77.850000\n",
       "50%      79.100000\n",
       "75%      79.900000\n",
       "max      82.300000\n",
       "Name: LifeExp2018, dtype: float64"
      ]
     },
     "execution_count": 35,
     "metadata": {},
     "output_type": "execute_result"
    }
   ],
   "source": [
    "df.LifeExp2018.describe()"
   ]
  },
  {
   "cell_type": "code",
   "execution_count": 36,
   "metadata": {},
   "outputs": [],
   "source": [
    "# what state has the highest life expectancy"
   ]
  },
  {
   "cell_type": "code",
   "execution_count": 37,
   "metadata": {},
   "outputs": [
    {
     "data": {
      "text/html": [
       "<div>\n",
       "<style scoped>\n",
       "    .dataframe tbody tr th:only-of-type {\n",
       "        vertical-align: middle;\n",
       "    }\n",
       "\n",
       "    .dataframe tbody tr th {\n",
       "        vertical-align: top;\n",
       "    }\n",
       "\n",
       "    .dataframe thead th {\n",
       "        text-align: right;\n",
       "    }\n",
       "</style>\n",
       "<table border=\"1\" class=\"dataframe\">\n",
       "  <thead>\n",
       "    <tr style=\"text-align: right;\">\n",
       "      <th></th>\n",
       "      <th>LifeExp2018</th>\n",
       "      <th>LifeExp2010</th>\n",
       "    </tr>\n",
       "    <tr>\n",
       "      <th>State</th>\n",
       "      <th></th>\n",
       "      <th></th>\n",
       "    </tr>\n",
       "  </thead>\n",
       "  <tbody>\n",
       "    <tr>\n",
       "      <th>Hawaii</th>\n",
       "      <td>82.3</td>\n",
       "      <td>81.4</td>\n",
       "    </tr>\n",
       "  </tbody>\n",
       "</table>\n",
       "</div>"
      ],
      "text/plain": [
       "        LifeExp2018  LifeExp2010\n",
       "State                           \n",
       "Hawaii         82.3         81.4"
      ]
     },
     "execution_count": 37,
     "metadata": {},
     "output_type": "execute_result"
    }
   ],
   "source": [
    "df[['LifeExp2018','LifeExp2010']][df.LifeExp2018==max(df.LifeExp2018)]"
   ]
  },
  {
   "cell_type": "code",
   "execution_count": 38,
   "metadata": {},
   "outputs": [],
   "source": [
    "# where should you not go to; lowest life expectancy"
   ]
  },
  {
   "cell_type": "code",
   "execution_count": 39,
   "metadata": {},
   "outputs": [
    {
     "data": {
      "text/html": [
       "<div>\n",
       "<style scoped>\n",
       "    .dataframe tbody tr th:only-of-type {\n",
       "        vertical-align: middle;\n",
       "    }\n",
       "\n",
       "    .dataframe tbody tr th {\n",
       "        vertical-align: top;\n",
       "    }\n",
       "\n",
       "    .dataframe thead th {\n",
       "        text-align: right;\n",
       "    }\n",
       "</style>\n",
       "<table border=\"1\" class=\"dataframe\">\n",
       "  <thead>\n",
       "    <tr style=\"text-align: right;\">\n",
       "      <th></th>\n",
       "      <th>LifeExp2018</th>\n",
       "      <th>LifeExp2010</th>\n",
       "    </tr>\n",
       "    <tr>\n",
       "      <th>State</th>\n",
       "      <th></th>\n",
       "      <th></th>\n",
       "    </tr>\n",
       "  </thead>\n",
       "  <tbody>\n",
       "    <tr>\n",
       "      <th>West_Virginia</th>\n",
       "      <td>74.8</td>\n",
       "      <td>75.5</td>\n",
       "    </tr>\n",
       "  </tbody>\n",
       "</table>\n",
       "</div>"
      ],
      "text/plain": [
       "               LifeExp2018  LifeExp2010\n",
       "State                                  \n",
       "West_Virginia         74.8         75.5"
      ]
     },
     "execution_count": 39,
     "metadata": {},
     "output_type": "execute_result"
    }
   ],
   "source": [
    "df[['LifeExp2018','LifeExp2010']][df.LifeExp2018==min(df.LifeExp2018)]"
   ]
  },
  {
   "cell_type": "code",
   "execution_count": 40,
   "metadata": {},
   "outputs": [],
   "source": [
    "# Distribution of life expectancy"
   ]
  },
  {
   "cell_type": "code",
   "execution_count": 41,
   "metadata": {},
   "outputs": [
    {
     "name": "stderr",
     "output_type": "stream",
     "text": [
      "C:\\Users\\fmogire\\AppData\\Local\\Programs\\Python\\Python39\\lib\\site-packages\\seaborn\\distributions.py:2557: FutureWarning: `distplot` is a deprecated function and will be removed in a future version. Please adapt your code to use either `displot` (a figure-level function with similar flexibility) or `histplot` (an axes-level function for histograms).\n",
      "  warnings.warn(msg, FutureWarning)\n",
      "C:\\Users\\fmogire\\AppData\\Local\\Programs\\Python\\Python39\\lib\\site-packages\\seaborn\\distributions.py:2056: FutureWarning: The `axis` variable is no longer used and will be removed. Instead, assign variables directly to `x` or `y`.\n",
      "  warnings.warn(msg, FutureWarning)\n"
     ]
    },
    {
     "data": {
      "image/png": "[encoded data removed]",
      "text/plain": [
       "<Figure size 432x288 with 1 Axes>"
      ]
     },
     "metadata": {},
     "output_type": "display_data"
    }
   ],
   "source": [
    "fig, ax0=plt.subplots()\n",
    "sns.distplot(df.LifeExp2018, rug=True, ax=ax0)\n",
    "ax0.set(title='Life Expectancy Distribution 2018', xlabel='Life Expectancy in 2018', ylabel='Density')\n",
    "ax0.axvline(x=df.LifeExp2018.median(), color='m', label='Median', linestyle='--', linewidth=2)\n",
    "ax0.axvline(x=df.LifeExp2018.mean(), color='g', label='Mean', linestyle='-', linewidth=2)\n",
    "ax0.legend()\n",
    "plt.savefig('LifeExp2018.png')\n",
    "plt.show()"
   ]
  },
  {
   "cell_type": "code",
   "execution_count": 42,
   "metadata": {},
   "outputs": [],
   "source": [
    "# Cumulative Distribution Function (ECDF)"
   ]
  },
  {
   "cell_type": "markdown",
   "metadata": {},
   "source": [
    "# Basic Probability and Statistical Analysis Using Scipy\n",
    "-statistics is a branch of mathematics - deals with collection and interpretation of numeric data\n",
    "-it is a precursor for all modern data science. Statistics - the science of the state.Statistics and probability are closely related, but also different.\n",
    "-probability- random processes, over infinite number of measurements\n",
    "## Exploring the relationship between data and probability using Scipy\n",
    "-Scipy- Scienctific Python- Scientific analysis, scipy library - module for prob and stats- scipy.stats\n"
   ]
  },
  {
   "cell_type": "code",
   "execution_count": 43,
   "metadata": {},
   "outputs": [],
   "source": [
    "from scipy import stats"
   ]
  },
  {
   "cell_type": "code",
   "execution_count": 44,
   "metadata": {},
   "outputs": [],
   "source": [
    "num_heads=16\n",
    "num_flips=20\n",
    "pro_head=0.5"
   ]
  },
  {
   "cell_type": "code",
   "execution_count": 45,
   "metadata": {},
   "outputs": [],
   "source": [
    "prob= stats.binom_test(num_heads, num_flips, pro_head)"
   ]
  },
  {
   "cell_type": "code",
   "execution_count": 46,
   "metadata": {},
   "outputs": [
    {
     "data": {
      "text/plain": [
       "0.011817932128906248"
      ]
     },
     "execution_count": 46,
     "metadata": {},
     "output_type": "execute_result"
    }
   ],
   "source": [
    "prob"
   ]
  },
  {
   "cell_type": "code",
   "execution_count": 47,
   "metadata": {},
   "outputs": [
    {
     "name": "stdout",
     "output_type": "stream",
     "text": [
      "(prob:.17f)\n"
     ]
    }
   ],
   "source": [
    "print(f'(prob:.17f)')# probability of observing more than 15 heads or 15 tails is"
   ]
  },
  {
   "cell_type": "code",
   "execution_count": 48,
   "metadata": {},
   "outputs": [],
   "source": [
    "measurements=np.array([80,77,73,61,74,79,81])"
   ]
  },
  {
   "cell_type": "code",
   "execution_count": 49,
   "metadata": {},
   "outputs": [],
   "source": [
    "data=measurements.sort()"
   ]
  },
  {
   "cell_type": "code",
   "execution_count": 50,
   "metadata": {},
   "outputs": [
    {
     "data": {
      "text/plain": [
       "array([61, 73, 74, 77, 79, 80, 81])"
      ]
     },
     "execution_count": 50,
     "metadata": {},
     "output_type": "execute_result"
    }
   ],
   "source": [
    "measurements"
   ]
  },
  {
   "cell_type": "code",
   "execution_count": 51,
   "metadata": {},
   "outputs": [],
   "source": [
    "number_of_days=measurements.size"
   ]
  },
  {
   "cell_type": "code",
   "execution_count": 52,
   "metadata": {},
   "outputs": [
    {
     "data": {
      "text/plain": [
       "7"
      ]
     },
     "execution_count": 52,
     "metadata": {},
     "output_type": "execute_result"
    }
   ],
   "source": [
    "number_of_days"
   ]
  },
  {
   "cell_type": "code",
   "execution_count": 53,
   "metadata": {},
   "outputs": [
    {
     "data": {
      "text/plain": [
       "71.0"
      ]
     },
     "execution_count": 53,
     "metadata": {},
     "output_type": "execute_result"
    }
   ],
   "source": [
    "#mid-point\n",
    "difference= measurements.max()- measurements.min()\n",
    "mid_point= measurements.min() + difference/2\n",
    "#difference= measurements.max()+ measurements.min()/2 - alternative formulae for mid-point\n",
    "mid_point"
   ]
  },
  {
   "cell_type": "code",
   "execution_count": 54,
   "metadata": {},
   "outputs": [],
   "source": [
    "#median\n",
    "median=measurements[3]"
   ]
  },
  {
   "cell_type": "code",
   "execution_count": 55,
   "metadata": {},
   "outputs": [
    {
     "data": {
      "text/plain": [
       "77"
      ]
     },
     "execution_count": 55,
     "metadata": {},
     "output_type": "execute_result"
    }
   ],
   "source": [
    "median"
   ]
  },
  {
   "cell_type": "code",
   "execution_count": 56,
   "metadata": {},
   "outputs": [],
   "source": [
    "#calculate the mean\n",
    "# difference between each value and the mean"
   ]
  },
  {
   "cell_type": "code",
   "execution_count": 57,
   "metadata": {},
   "outputs": [
    {
     "data": {
      "image/png": "[encoded data removed]",
      "text/plain": [
       "<Figure size 432x288 with 1 Axes>"
      ]
     },
     "metadata": {},
     "output_type": "display_data"
    }
   ],
   "source": [
    "plt.scatter(range(number_of_days),measurements)\n",
    "plt.plot(range(number_of_days),measurements)\n",
    "plt.axhline(mid_point, color='r', linestyle='--')\n",
    "plt.axhline(median, color='g', linestyle='-.')\n",
    "plt.show()"
   ]
  },
  {
   "cell_type": "code",
   "execution_count": 58,
   "metadata": {},
   "outputs": [
    {
     "data": {
      "text/plain": [
       "75.0"
      ]
     },
     "execution_count": 58,
     "metadata": {},
     "output_type": "execute_result"
    }
   ],
   "source": [
    "no_of_values=measurements.size\n",
    "#no_of_values\n",
    "mean= measurements.sum()/no_of_values\n",
    "mean"
   ]
  },
  {
   "cell_type": "code",
   "execution_count": 59,
   "metadata": {},
   "outputs": [
    {
     "data": {
      "text/plain": [
       "[-14.0, -2.0, -1.0, 2.0, 4.0, 5.0, 6.0]"
      ]
     },
     "execution_count": 59,
     "metadata": {},
     "output_type": "execute_result"
    }
   ],
   "source": [
    "# difference between each value and the mean\n",
    "diff_from_mean=[]\n",
    "for x in measurements:\n",
    "    diff=x-mean\n",
    "    diff_from_mean.append(diff)\n",
    "    \n",
    "diff_from_mean\n"
   ]
  },
  {
   "cell_type": "code",
   "execution_count": 60,
   "metadata": {},
   "outputs": [
    {
     "data": {
      "image/png": "[encoded data removed]",
      "text/plain": [
       "<Figure size 432x288 with 1 Axes>"
      ]
     },
     "metadata": {},
     "output_type": "display_data"
    }
   ],
   "source": [
    "\n",
    "plt.scatter(range(no_of_values), measurements)\n",
    "plt.plot(range(no_of_values),measurements,label='Data',)\n",
    "plt.axhline(mean,color='k',label='Mean',linestyle='--')\n",
    "plt.legend()\n",
    "plt.show()\n"
   ]
  },
  {
   "cell_type": "code",
   "execution_count": 61,
   "metadata": {},
   "outputs": [],
   "source": [
    "# what % of states have a life expectancy greater than 80 years\n",
    "#ECDF"
   ]
  },
  {
   "cell_type": "code",
   "execution_count": 62,
   "metadata": {},
   "outputs": [],
   "source": [
    "from statsmodels.distributions.empirical_distribution import ECDF"
   ]
  },
  {
   "cell_type": "code",
   "execution_count": 63,
   "metadata": {},
   "outputs": [],
   "source": [
    "#pip install statsmodels"
   ]
  },
  {
   "cell_type": "code",
   "execution_count": 64,
   "metadata": {},
   "outputs": [
    {
     "data": {
      "image/png": "[encoded data removed]",
      "text/plain": [
       "<Figure size 432x288 with 1 Axes>"
      ]
     },
     "metadata": {},
     "output_type": "display_data"
    }
   ],
   "source": [
    "fig, ax0=plt.subplots()\n",
    "ecdf=ECDF(df['LifeExp2018'])\n",
    "ax0.plot(ecdf.x, ecdf.y)\n",
    "ax0.set(xlabel='Life expectancy (2018)',ylabel='ECDF', title='Empirical cummulative Distribution\\n of Life Expectancy (2018)')\n",
    "ax0.axvline(x=80, color='g', linestyle='--')\n",
    "plt.show()"
   ]
  },
  {
   "cell_type": "code",
   "execution_count": 65,
   "metadata": {},
   "outputs": [],
   "source": [
    "#from the figure only 20% have a life expectancy greater than 80 years"
   ]
  },
  {
   "cell_type": "markdown",
   "metadata": {},
   "source": [
    "# 3. Distribution of a single variable that is discriminating cases as a categorical variable "
   ]
  },
  {
   "cell_type": "code",
   "execution_count": 66,
   "metadata": {},
   "outputs": [
    {
     "data": {
      "text/html": [
       "<div>\n",
       "<style scoped>\n",
       "    .dataframe tbody tr th:only-of-type {\n",
       "        vertical-align: middle;\n",
       "    }\n",
       "\n",
       "    .dataframe tbody tr th {\n",
       "        vertical-align: top;\n",
       "    }\n",
       "\n",
       "    .dataframe thead th {\n",
       "        text-align: right;\n",
       "    }\n",
       "</style>\n",
       "<table border=\"1\" class=\"dataframe\">\n",
       "  <thead>\n",
       "    <tr style=\"text-align: right;\">\n",
       "      <th></th>\n",
       "      <th>count</th>\n",
       "      <th>mean</th>\n",
       "      <th>std</th>\n",
       "      <th>min</th>\n",
       "      <th>25%</th>\n",
       "      <th>50%</th>\n",
       "      <th>75%</th>\n",
       "      <th>max</th>\n",
       "    </tr>\n",
       "    <tr>\n",
       "      <th>Region</th>\n",
       "      <th></th>\n",
       "      <th></th>\n",
       "      <th></th>\n",
       "      <th></th>\n",
       "      <th></th>\n",
       "      <th></th>\n",
       "      <th></th>\n",
       "      <th></th>\n",
       "    </tr>\n",
       "  </thead>\n",
       "  <tbody>\n",
       "    <tr>\n",
       "      <th>North Central</th>\n",
       "      <td>12.0</td>\n",
       "      <td>78.783333</td>\n",
       "      <td>1.264072</td>\n",
       "      <td>76.9</td>\n",
       "      <td>77.825</td>\n",
       "      <td>79.20</td>\n",
       "      <td>79.450</td>\n",
       "      <td>81.0</td>\n",
       "    </tr>\n",
       "    <tr>\n",
       "      <th>Northeast</th>\n",
       "      <td>9.0</td>\n",
       "      <td>79.911111</td>\n",
       "      <td>0.985450</td>\n",
       "      <td>78.3</td>\n",
       "      <td>79.500</td>\n",
       "      <td>79.90</td>\n",
       "      <td>80.500</td>\n",
       "      <td>81.3</td>\n",
       "    </tr>\n",
       "    <tr>\n",
       "      <th>South</th>\n",
       "      <td>16.0</td>\n",
       "      <td>77.087500</td>\n",
       "      <td>1.750000</td>\n",
       "      <td>74.8</td>\n",
       "      <td>75.775</td>\n",
       "      <td>76.55</td>\n",
       "      <td>78.575</td>\n",
       "      <td>80.0</td>\n",
       "    </tr>\n",
       "    <tr>\n",
       "      <th>West</th>\n",
       "      <td>13.0</td>\n",
       "      <td>79.761538</td>\n",
       "      <td>1.218290</td>\n",
       "      <td>78.1</td>\n",
       "      <td>78.800</td>\n",
       "      <td>79.80</td>\n",
       "      <td>80.400</td>\n",
       "      <td>82.3</td>\n",
       "    </tr>\n",
       "  </tbody>\n",
       "</table>\n",
       "</div>"
      ],
      "text/plain": [
       "               count       mean       std   min     25%    50%     75%   max\n",
       "Region                                                                      \n",
       "North Central   12.0  78.783333  1.264072  76.9  77.825  79.20  79.450  81.0\n",
       "Northeast        9.0  79.911111  0.985450  78.3  79.500  79.90  80.500  81.3\n",
       "South           16.0  77.087500  1.750000  74.8  75.775  76.55  78.575  80.0\n",
       "West            13.0  79.761538  1.218290  78.1  78.800  79.80  80.400  82.3"
      ]
     },
     "execution_count": 66,
     "metadata": {},
     "output_type": "execute_result"
    }
   ],
   "source": [
    "df.groupby('Region')['LifeExp2018'].describe()"
   ]
  },
  {
   "cell_type": "code",
   "execution_count": 67,
   "metadata": {},
   "outputs": [],
   "source": [
    "# southern states have the lowest life expectancy"
   ]
  },
  {
   "cell_type": "code",
   "execution_count": 68,
   "metadata": {},
   "outputs": [
    {
     "data": {
      "text/html": [
       "<div>\n",
       "<style scoped>\n",
       "    .dataframe tbody tr th:only-of-type {\n",
       "        vertical-align: middle;\n",
       "    }\n",
       "\n",
       "    .dataframe tbody tr th {\n",
       "        vertical-align: top;\n",
       "    }\n",
       "\n",
       "    .dataframe thead th {\n",
       "        text-align: right;\n",
       "    }\n",
       "</style>\n",
       "<table border=\"1\" class=\"dataframe\">\n",
       "  <thead>\n",
       "    <tr style=\"text-align: right;\">\n",
       "      <th></th>\n",
       "      <th>count</th>\n",
       "      <th>mean</th>\n",
       "      <th>std</th>\n",
       "      <th>min</th>\n",
       "      <th>25%</th>\n",
       "      <th>50%</th>\n",
       "      <th>75%</th>\n",
       "      <th>max</th>\n",
       "    </tr>\n",
       "    <tr>\n",
       "      <th>Division</th>\n",
       "      <th></th>\n",
       "      <th></th>\n",
       "      <th></th>\n",
       "      <th></th>\n",
       "      <th></th>\n",
       "      <th></th>\n",
       "      <th></th>\n",
       "      <th></th>\n",
       "    </tr>\n",
       "  </thead>\n",
       "  <tbody>\n",
       "    <tr>\n",
       "      <th>East North Central</th>\n",
       "      <td>5.0</td>\n",
       "      <td>78.120000</td>\n",
       "      <td>1.202913</td>\n",
       "      <td>76.9</td>\n",
       "      <td>77.000</td>\n",
       "      <td>78.00</td>\n",
       "      <td>79.30</td>\n",
       "      <td>79.4</td>\n",
       "    </tr>\n",
       "    <tr>\n",
       "      <th>East South Central</th>\n",
       "      <td>4.0</td>\n",
       "      <td>75.425000</td>\n",
       "      <td>0.450000</td>\n",
       "      <td>74.9</td>\n",
       "      <td>75.275</td>\n",
       "      <td>75.40</td>\n",
       "      <td>75.55</td>\n",
       "      <td>76.0</td>\n",
       "    </tr>\n",
       "    <tr>\n",
       "      <th>Middle Atlantic</th>\n",
       "      <td>3.0</td>\n",
       "      <td>80.000000</td>\n",
       "      <td>1.539480</td>\n",
       "      <td>78.3</td>\n",
       "      <td>79.350</td>\n",
       "      <td>80.40</td>\n",
       "      <td>80.85</td>\n",
       "      <td>81.3</td>\n",
       "    </tr>\n",
       "    <tr>\n",
       "      <th>Mountain</th>\n",
       "      <td>8.0</td>\n",
       "      <td>79.250000</td>\n",
       "      <td>0.807111</td>\n",
       "      <td>78.1</td>\n",
       "      <td>78.725</td>\n",
       "      <td>79.15</td>\n",
       "      <td>79.90</td>\n",
       "      <td>80.5</td>\n",
       "    </tr>\n",
       "    <tr>\n",
       "      <th>New England</th>\n",
       "      <td>6.0</td>\n",
       "      <td>79.866667</td>\n",
       "      <td>0.773736</td>\n",
       "      <td>78.7</td>\n",
       "      <td>79.550</td>\n",
       "      <td>79.80</td>\n",
       "      <td>80.35</td>\n",
       "      <td>80.9</td>\n",
       "    </tr>\n",
       "    <tr>\n",
       "      <th>Pacific</th>\n",
       "      <td>5.0</td>\n",
       "      <td>80.580000</td>\n",
       "      <td>1.397140</td>\n",
       "      <td>78.8</td>\n",
       "      <td>79.800</td>\n",
       "      <td>80.40</td>\n",
       "      <td>81.60</td>\n",
       "      <td>82.3</td>\n",
       "    </tr>\n",
       "    <tr>\n",
       "      <th>South Atlantic</th>\n",
       "      <td>8.0</td>\n",
       "      <td>78.075000</td>\n",
       "      <td>1.641210</td>\n",
       "      <td>74.8</td>\n",
       "      <td>77.600</td>\n",
       "      <td>78.20</td>\n",
       "      <td>79.20</td>\n",
       "      <td>80.0</td>\n",
       "    </tr>\n",
       "    <tr>\n",
       "      <th>West North Central</th>\n",
       "      <td>7.0</td>\n",
       "      <td>79.257143</td>\n",
       "      <td>1.155937</td>\n",
       "      <td>77.3</td>\n",
       "      <td>78.800</td>\n",
       "      <td>79.40</td>\n",
       "      <td>79.75</td>\n",
       "      <td>81.0</td>\n",
       "    </tr>\n",
       "    <tr>\n",
       "      <th>West South Central</th>\n",
       "      <td>4.0</td>\n",
       "      <td>76.775000</td>\n",
       "      <td>1.552149</td>\n",
       "      <td>75.9</td>\n",
       "      <td>75.975</td>\n",
       "      <td>76.05</td>\n",
       "      <td>76.85</td>\n",
       "      <td>79.1</td>\n",
       "    </tr>\n",
       "  </tbody>\n",
       "</table>\n",
       "</div>"
      ],
      "text/plain": [
       "                    count       mean       std   min     25%    50%    75%  \\\n",
       "Division                                                                     \n",
       "East North Central    5.0  78.120000  1.202913  76.9  77.000  78.00  79.30   \n",
       "East South Central    4.0  75.425000  0.450000  74.9  75.275  75.40  75.55   \n",
       "Middle Atlantic       3.0  80.000000  1.539480  78.3  79.350  80.40  80.85   \n",
       "Mountain              8.0  79.250000  0.807111  78.1  78.725  79.15  79.90   \n",
       "New England           6.0  79.866667  0.773736  78.7  79.550  79.80  80.35   \n",
       "Pacific               5.0  80.580000  1.397140  78.8  79.800  80.40  81.60   \n",
       "South Atlantic        8.0  78.075000  1.641210  74.8  77.600  78.20  79.20   \n",
       "West North Central    7.0  79.257143  1.155937  77.3  78.800  79.40  79.75   \n",
       "West South Central    4.0  76.775000  1.552149  75.9  75.975  76.05  76.85   \n",
       "\n",
       "                     max  \n",
       "Division                  \n",
       "East North Central  79.4  \n",
       "East South Central  76.0  \n",
       "Middle Atlantic     81.3  \n",
       "Mountain            80.5  \n",
       "New England         80.9  \n",
       "Pacific             82.3  \n",
       "South Atlantic      80.0  \n",
       "West North Central  81.0  \n",
       "West South Central  79.1  "
      ]
     },
     "execution_count": 68,
     "metadata": {},
     "output_type": "execute_result"
    }
   ],
   "source": [
    "df.groupby('Division')['LifeExp2018'].describe()"
   ]
  },
  {
   "cell_type": "code",
   "execution_count": 69,
   "metadata": {},
   "outputs": [],
   "source": [
    "#pacific division has a higher life expectancy"
   ]
  },
  {
   "cell_type": "code",
   "execution_count": 70,
   "metadata": {},
   "outputs": [],
   "source": [
    "# Kernel density function(kde) plot of life expectancy per region - density plot"
   ]
  },
  {
   "cell_type": "code",
   "execution_count": 71,
   "metadata": {},
   "outputs": [
    {
     "data": {
      "image/png": "[encoded data removed]",
      "text/plain": [
       "<Figure size 432x288 with 1 Axes>"
      ]
     },
     "metadata": {},
     "output_type": "display_data"
    }
   ],
   "source": [
    "fig, ax0=plt.subplots()\n",
    "sns.kdeplot(df.LifeExp2018[df.Region=='North Central'],shade=True, label='North central',ax=ax0)\n",
    "sns.kdeplot(df.LifeExp2018[df.Region=='Northeast'],shade=True, label='Northeast',ax=ax0)\n",
    "sns.kdeplot(df.LifeExp2018[df.Region=='South'],shade=True, label='South',ax=ax0)\n",
    "sns.kdeplot(df.LifeExp2018[df.Region=='West'],shade=True, label='West',ax=ax0)\n",
    "ax0.set(title='Distribution of Life Expectancy (2018) per region')\n",
    "plt.savefig(\"LifeExp2018_region_kde.png\")\n",
    "plt.legend()\n",
    "plt.show()"
   ]
  },
  {
   "cell_type": "code",
   "execution_count": 72,
   "metadata": {},
   "outputs": [],
   "source": [
    "# least life expectancy is in the south and the highest life expectancy is in the Northeast"
   ]
  },
  {
   "cell_type": "code",
   "execution_count": 73,
   "metadata": {},
   "outputs": [],
   "source": [
    "# box plots for life expectancy per region"
   ]
  },
  {
   "cell_type": "code",
   "execution_count": 74,
   "metadata": {},
   "outputs": [
    {
     "data": {
      "image/png": "[encoded data removed]",
      "text/plain": [
       "<Figure size 360x360 with 1 Axes>"
      ]
     },
     "metadata": {},
     "output_type": "display_data"
    }
   ],
   "source": [
    "g=sns.catplot(x='Region', y='LifeExp2018', kind='box', data=df)\n",
    "g.fig.suptitle('life expectancy per region')\n",
    "g.set(ylabel='Life Expectancy')\n",
    "plt.savefig('LifeExp2018_region_box.png')"
   ]
  },
  {
   "cell_type": "code",
   "execution_count": 75,
   "metadata": {},
   "outputs": [],
   "source": [
    "# Violin plots of Life expectancy per region\n"
   ]
  },
  {
   "cell_type": "code",
   "execution_count": 77,
   "metadata": {},
   "outputs": [
    {
     "data": {
      "image/png": "[encoded data removed]",
      "text/plain": [
       "<Figure size 360x360 with 1 Axes>"
      ]
     },
     "metadata": {},
     "output_type": "display_data"
    }
   ],
   "source": [
    "g=sns.catplot(x='Region',y='LifeExp2018', kind='violin', data=df)\n",
    "g.fig.suptitle('Life Expectancy per Region')\n",
    "g.set(ylabel='Life Expectancy')\n",
    "plt.savefig('LifeExp2018_region_violin.png')\n",
    "plt.show ()"
   ]
  },
  {
   "cell_type": "code",
   "execution_count": 78,
   "metadata": {},
   "outputs": [],
   "source": [
    "# strip plot of life expectancy per region"
   ]
  },
  {
   "cell_type": "code",
   "execution_count": 81,
   "metadata": {},
   "outputs": [
    {
     "data": {
      "image/png": "[encoded data removed]",
      "text/plain": [
       "<Figure size 360x360 with 1 Axes>"
      ]
     },
     "metadata": {},
     "output_type": "display_data"
    }
   ],
   "source": [
    "g=sns.catplot(x='Region',y='LifeExp2018', kind='strip', data=df)\n",
    "g.set(ylabel='Life Expectancy (years)', xlabel='Region', title='US States')\n",
    "plt.savefig('LifeExp2018_region_strip.png')\n",
    "plt.show ()"
   ]
  },
  {
   "cell_type": "markdown",
   "metadata": {},
   "source": [
    "### Is Life expectancy equally distributed in USA?\n",
    "-Life expectany is not equally distributed"
   ]
  },
  {
   "cell_type": "code",
   "execution_count": 82,
   "metadata": {},
   "outputs": [],
   "source": [
    "# Data exploration: Comparing distributions of several variables"
   ]
  },
  {
   "cell_type": "code",
   "execution_count": 88,
   "metadata": {},
   "outputs": [
    {
     "name": "stderr",
     "output_type": "stream",
     "text": [
      "C:\\Users\\fmogire\\AppData\\Local\\Programs\\Python\\Python39\\lib\\site-packages\\seaborn\\distributions.py:2557: FutureWarning: `distplot` is a deprecated function and will be removed in a future version. Please adapt your code to use either `displot` (a figure-level function with similar flexibility) or `histplot` (an axes-level function for histograms).\n",
      "  warnings.warn(msg, FutureWarning)\n",
      "C:\\Users\\fmogire\\AppData\\Local\\Programs\\Python\\Python39\\lib\\site-packages\\seaborn\\distributions.py:2056: FutureWarning: The `axis` variable is no longer used and will be removed. Instead, assign variables directly to `x` or `y`.\n",
      "  warnings.warn(msg, FutureWarning)\n",
      "C:\\Users\\fmogire\\AppData\\Local\\Programs\\Python\\Python39\\lib\\site-packages\\seaborn\\distributions.py:2557: FutureWarning: `distplot` is a deprecated function and will be removed in a future version. Please adapt your code to use either `displot` (a figure-level function with similar flexibility) or `histplot` (an axes-level function for histograms).\n",
      "  warnings.warn(msg, FutureWarning)\n",
      "C:\\Users\\fmogire\\AppData\\Local\\Programs\\Python\\Python39\\lib\\site-packages\\seaborn\\distributions.py:2056: FutureWarning: The `axis` variable is no longer used and will be removed. Instead, assign variables directly to `x` or `y`.\n",
      "  warnings.warn(msg, FutureWarning)\n",
      "C:\\Users\\fmogire\\AppData\\Local\\Programs\\Python\\Python39\\lib\\site-packages\\seaborn\\distributions.py:2557: FutureWarning: `distplot` is a deprecated function and will be removed in a future version. Please adapt your code to use either `displot` (a figure-level function with similar flexibility) or `histplot` (an axes-level function for histograms).\n",
      "  warnings.warn(msg, FutureWarning)\n",
      "C:\\Users\\fmogire\\AppData\\Local\\Programs\\Python\\Python39\\lib\\site-packages\\seaborn\\distributions.py:2056: FutureWarning: The `axis` variable is no longer used and will be removed. Instead, assign variables directly to `x` or `y`.\n",
      "  warnings.warn(msg, FutureWarning)\n"
     ]
    },
    {
     "data": {
      "image/png": "[encoded data removed]",
      "text/plain": [
       "<Figure size 1224x288 with 3 Axes>"
      ]
     },
     "metadata": {},
     "output_type": "display_data"
    }
   ],
   "source": [
    "# Distribution of high school graduates, bachelors graduates and advanced graduates across the states\n",
    "fig, (ax0,ax1,ax2)=plt.subplots(nrows=1, ncols=3, sharey=True, figsize=(17,4))\n",
    "sns.distplot(df.HSGradPer, ax=ax0,rug=True)\n",
    "sns.distplot(df.BADegPer, ax=ax1, rug=True)\n",
    "sns.distplot(df.AdvDegPer, ax=ax2, rug=True)\n",
    "\n",
    "ax0.set(xlabel='High School Graduate (%)')\n",
    "ax0.axvline(x=df.HSGradPer.median(), color='m',label='Median', linestyle='--', linewidth=2 )\n",
    "ax0.axvline(x=df.HSGradPer.mean(), color='g',label='Mean', linestyle='-', linewidth=2 )\n",
    "ax0.legend()\n",
    "\n",
    "ax1.set(xlabel='Bachelor Degree graduates (%)')\n",
    "ax1.axvline(x=df.BADegPer.median(), color='m',label='Median', linestyle='--', linewidth=2 )\n",
    "ax1.axvline(x=df.BADegPer.mean(), color='g',label='Mean', linestyle='-', linewidth=2 )\n",
    "ax1.legend()\n",
    "\n",
    "ax2.set(xlabel='Advanced Degree graduates (%)')\n",
    "ax2.axvline(x=df.AdvDegPer.median(), color='m',label='Median', linestyle='--', linewidth=2 )\n",
    "ax2.axvline(x=df.AdvDegPer.mean(), color='g',label='Mean', linestyle='-', linewidth=2 )\n",
    "ax2.legend()\n",
    "\n",
    "fig.suptitle('Distribution of Education Variables across the US states')\n",
    "plt.show()"
   ]
  },
  {
   "cell_type": "code",
   "execution_count": 90,
   "metadata": {},
   "outputs": [
    {
     "data": {
      "image/png": "[encoded data removed]",
      "text/plain": [
       "<Figure size 360x576 with 1 Axes>"
      ]
     },
     "metadata": {},
     "output_type": "display_data"
    }
   ],
   "source": [
    "fig,ax=plt.subplots(figsize=(5,8))\n",
    "sns.stripplot(y=df.HSGradPer, ax=ax, color='blue', label='High School')\n",
    "sns.stripplot(y=df.BADegPer, ax=ax, color='Orange', label='Bachelors')\n",
    "sns.stripplot(y=df.AdvDegPer, ax=ax, color='green', label='Advanced')\n",
    "ax.set(xlabel='Education',ylabel='Percentage',title='Distribution of Education Variables across the U.S States (%)')\n",
    "ax.legend()\n",
    "plt.savefig('Edu_strip.png')\n",
    "plt.show()"
   ]
  },
  {
   "cell_type": "code",
   "execution_count": 92,
   "metadata": {},
   "outputs": [
    {
     "data": {
      "image/png": "[encoded data removed]",
      "text/plain": [
       "<Figure size 1008x720 with 3 Axes>"
      ]
     },
     "metadata": {},
     "output_type": "display_data"
    }
   ],
   "source": [
    "fig, (ax0, ax1, ax2)=plt.subplots(nrows=1,ncols=3,sharey=True,figsize=(14,10))\n",
    "sns.boxplot(y=df.HSGradPer,data=df, ax=ax0, color='blue')\n",
    "sns.boxplot(y=df.BADegPer, data=df, ax=ax1, color='Orange')\n",
    "sns.boxplot(y=df.AdvDegPer, data=df, ax=ax2, color='green')\n",
    "ax0.set(xlabel='High School Graduates(%)',ylabel='% of graduates')\n",
    "ax1.set(xlabel='Bachelors degree Graduates(%)',ylabel='')\n",
    "ax2.set(xlabel='Advanced degree Graduates(%)',ylabel='')\n",
    "fig.suptitle('Distribution of Education Variables across the U.S States (%)', fontsize=17)\n",
    "plt.show()"
   ]
  },
  {
   "cell_type": "code",
   "execution_count": 93,
   "metadata": {},
   "outputs": [
    {
     "data": {
      "image/png": "[encoded data removed]",
      "text/plain": [
       "<Figure size 1008x720 with 3 Axes>"
      ]
     },
     "metadata": {},
     "output_type": "display_data"
    }
   ],
   "source": [
    "fig, (ax0, ax1, ax2)=plt.subplots(nrows=1,ncols=3,sharey=True,figsize=(14,10))\n",
    "sns.violinplot(y=df.HSGradPer,data=df, ax=ax0, color='blue')\n",
    "sns.violinplot(y=df.BADegPer, data=df, ax=ax1, color='Orange')\n",
    "sns.violinplot(y=df.AdvDegPer, data=df, ax=ax2, color='green')\n",
    "ax0.set(xlabel='High School Graduates(%)',ylabel='% of graduates')\n",
    "ax1.set(xlabel='Bachelors degree Graduates(%)',ylabel='')\n",
    "ax2.set(xlabel='Advanced degree Graduates(%)',ylabel='')\n",
    "fig.suptitle('Distribution of Education Variables across the U.S States (%)', fontsize=17)\n",
    "plt.show()"
   ]
  },
  {
   "cell_type": "code",
   "execution_count": 95,
   "metadata": {},
   "outputs": [
    {
     "data": {
      "text/html": [
       "<div>\n",
       "<style scoped>\n",
       "    .dataframe tbody tr th:only-of-type {\n",
       "        vertical-align: middle;\n",
       "    }\n",
       "\n",
       "    .dataframe tbody tr th {\n",
       "        vertical-align: top;\n",
       "    }\n",
       "\n",
       "    .dataframe thead th {\n",
       "        text-align: right;\n",
       "    }\n",
       "</style>\n",
       "<table border=\"1\" class=\"dataframe\">\n",
       "  <thead>\n",
       "    <tr style=\"text-align: right;\">\n",
       "      <th></th>\n",
       "      <th>HSGradPer</th>\n",
       "      <th>BADegPer</th>\n",
       "      <th>AdvDegPer</th>\n",
       "    </tr>\n",
       "  </thead>\n",
       "  <tbody>\n",
       "    <tr>\n",
       "      <th>count</th>\n",
       "      <td>50.00000</td>\n",
       "      <td>50.000000</td>\n",
       "      <td>50.000000</td>\n",
       "    </tr>\n",
       "    <tr>\n",
       "      <th>mean</th>\n",
       "      <td>88.50800</td>\n",
       "      <td>30.114000</td>\n",
       "      <td>11.262000</td>\n",
       "    </tr>\n",
       "    <tr>\n",
       "      <th>std</th>\n",
       "      <td>3.48869</td>\n",
       "      <td>5.056498</td>\n",
       "      <td>2.703127</td>\n",
       "    </tr>\n",
       "    <tr>\n",
       "      <th>min</th>\n",
       "      <td>76.70000</td>\n",
       "      <td>19.900000</td>\n",
       "      <td>7.800000</td>\n",
       "    </tr>\n",
       "    <tr>\n",
       "      <th>25%</th>\n",
       "      <td>86.15000</td>\n",
       "      <td>26.925000</td>\n",
       "      <td>9.375000</td>\n",
       "    </tr>\n",
       "    <tr>\n",
       "      <th>50%</th>\n",
       "      <td>89.25000</td>\n",
       "      <td>29.450000</td>\n",
       "      <td>10.700000</td>\n",
       "    </tr>\n",
       "    <tr>\n",
       "      <th>75%</th>\n",
       "      <td>91.32500</td>\n",
       "      <td>32.900000</td>\n",
       "      <td>12.575000</td>\n",
       "    </tr>\n",
       "    <tr>\n",
       "      <th>max</th>\n",
       "      <td>93.00000</td>\n",
       "      <td>42.100000</td>\n",
       "      <td>18.700000</td>\n",
       "    </tr>\n",
       "  </tbody>\n",
       "</table>\n",
       "</div>"
      ],
      "text/plain": [
       "       HSGradPer   BADegPer  AdvDegPer\n",
       "count   50.00000  50.000000  50.000000\n",
       "mean    88.50800  30.114000  11.262000\n",
       "std      3.48869   5.056498   2.703127\n",
       "min     76.70000  19.900000   7.800000\n",
       "25%     86.15000  26.925000   9.375000\n",
       "50%     89.25000  29.450000  10.700000\n",
       "75%     91.32500  32.900000  12.575000\n",
       "max     93.00000  42.100000  18.700000"
      ]
     },
     "execution_count": 95,
     "metadata": {},
     "output_type": "execute_result"
    }
   ],
   "source": [
    "df.loc[:,['HSGradPer','BADegPer','AdvDegPer']].describe()"
   ]
  },
  {
   "cell_type": "code",
   "execution_count": 97,
   "metadata": {},
   "outputs": [
    {
     "name": "stdout",
     "output_type": "stream",
     "text": [
      "State\n",
      "Montana    93.0\n",
      "Name: HSGradPer, dtype: float64\n",
      "State\n",
      "Oregon    76.7\n",
      "Name: HSGradPer, dtype: float64\n",
      "State\n",
      "Massachusetts    42.1\n",
      "Name: BADegPer, dtype: float64\n",
      "State\n",
      "West_Virginia    19.9\n",
      "Name: BADegPer, dtype: float64\n",
      "State\n",
      "Massachusetts    18.7\n",
      "Name: AdvDegPer, dtype: float64\n",
      "State\n",
      "North_Dakota    7.8\n",
      "Name: AdvDegPer, dtype: float64\n"
     ]
    }
   ],
   "source": [
    "print(df[df.HSGradPer==max(df.HSGradPer)].HSGradPer)\n",
    "print(df[df.HSGradPer==min(df.HSGradPer)].HSGradPer)\n",
    "\n",
    "print(df[df.BADegPer==max(df.BADegPer)].BADegPer)\n",
    "print(df[df.BADegPer==min(df.BADegPer)].BADegPer)\n",
    "\n",
    "print(df[df.AdvDegPer==max(df.AdvDegPer)].AdvDegPer)\n",
    "print(df[df.AdvDegPer==min(df.AdvDegPer)].AdvDegPer)"
   ]
  },
  {
   "cell_type": "code",
   "execution_count": 101,
   "metadata": {},
   "outputs": [
    {
     "data": {
      "image/png": "[encoded data removed]",
      "text/plain": [
       "<Figure size 432x288 with 1 Axes>"
      ]
     },
     "metadata": {},
     "output_type": "display_data"
    }
   ],
   "source": [
    "#ECDF for the Education\n",
    "\n",
    "x1=np.sort(df['HSGradPer'])\n",
    "x2=np.sort(df['BADegPer'])\n",
    "x3=np.sort(df['AdvDegPer'])\n",
    "y=np.arange(1,len(x1)+1)/len(x1)\n",
    "fig,ax=plt.subplots()\n",
    "ax.plot(x1,y,'.',linestyle='none', color='blue', label='HSGrad')\n",
    "ax.plot(x2,y,'.',linestyle='none', color='orange', label='BADeg')\n",
    "ax.plot(x3,y,'.',linestyle='none', color='green', label='AdvDeg')\n",
    "ax.set_xlabel('Education')\n",
    "ax.set_ylabel('ECDF')\n",
    "ax.set_title('Empirical Cummulative Distribution\\n of Life Expectancy (2018)')\n",
    "ax.legend()\n",
    "plt.margins(0.02)\n",
    "plt.show()\n"
   ]
  },
  {
   "cell_type": "code",
   "execution_count": 103,
   "metadata": {},
   "outputs": [],
   "source": [
    "df.to_csv('life_expectancy_all.csv')"
   ]
  }
 ],
 "metadata": {
  "kernelspec": {
   "display_name": "Python 3",
   "language": "python",
   "name": "python3"
  },
  "language_info": {
   "codemirror_mode": {
    "name": "ipython",
    "version": 3
   },
   "file_extension": ".py",
   "mimetype": "text/x-python",
   "name": "python",
   "nbconvert_exporter": "python",
   "pygments_lexer": "ipython3",
   "version": "3.9.0"
  }
 },
 "nbformat": 4,
 "nbformat_minor": 4
}
